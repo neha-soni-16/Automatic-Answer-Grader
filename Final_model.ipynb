{
 "cells": [
  {
   "cell_type": "code",
   "execution_count": 1,
   "metadata": {},
   "outputs": [],
   "source": [
    "import pandas as pd\n",
    "import numpy as np\n",
    "import cv2\n",
    "import os\n",
    "from pathlib import Path"
   ]
  },
  {
   "cell_type": "code",
   "execution_count": 2,
   "metadata": {},
   "outputs": [],
   "source": [
    "import glob\n",
    "import os\n",
    "import cv2\n",
    "import matplotlib.pyplot as plt\n",
    "from PIL import Image"
   ]
  },
  {
   "cell_type": "code",
   "execution_count": 3,
   "metadata": {},
   "outputs": [
    {
     "name": "stderr",
     "output_type": "stream",
     "text": [
      "2021-09-24 15:48:36.068680: W tensorflow/stream_executor/platform/default/dso_loader.cc:64] Could not load dynamic library 'libcudart.so.11.0'; dlerror: libcudart.so.11.0: cannot open shared object file: No such file or directory\n",
      "2021-09-24 15:48:36.068729: I tensorflow/stream_executor/cuda/cudart_stub.cc:29] Ignore above cudart dlerror if you do not have a GPU set up on your machine.\n"
     ]
    }
   ],
   "source": [
    "import tensorflow as tf\n",
    "from tensorflow import keras\n",
    "from tensorflow.keras import layers\n",
    "from tensorflow.keras.models import Sequential\n",
    "import tensorflow_hub as hub"
   ]
  },
  {
   "cell_type": "code",
   "execution_count": 15,
   "metadata": {},
   "outputs": [
    {
     "data": {
      "text/plain": "array([[[196, 203, 206],\n        [193, 200, 203],\n        [192, 199, 202],\n        ...,\n        [189, 196, 199],\n        [191, 198, 201],\n        [192, 199, 202]],\n\n       [[194, 201, 204],\n        [193, 200, 203],\n        [192, 199, 202],\n        ...,\n        [190, 197, 200],\n        [192, 199, 202],\n        [192, 199, 202]],\n\n       [[193, 200, 203],\n        [194, 201, 204],\n        [193, 200, 203],\n        ...,\n        [192, 199, 202],\n        [193, 200, 203],\n        [193, 200, 203]],\n\n       ...,\n\n       [[192, 197, 198],\n        [190, 195, 196],\n        [193, 198, 199],\n        ...,\n        [187, 192, 195],\n        [187, 192, 195],\n        [187, 192, 195]],\n\n       [[189, 194, 195],\n        [187, 192, 193],\n        [193, 198, 199],\n        ...,\n        [189, 194, 197],\n        [189, 194, 197],\n        [188, 193, 196]],\n\n       [[193, 198, 199],\n        [191, 196, 197],\n        [189, 194, 195],\n        ...,\n        [190, 195, 198],\n        [189, 194, 197],\n        [188, 193, 196]]], dtype=uint8)"
     },
     "execution_count": 15,
     "metadata": {},
     "output_type": "execute_result"
    }
   ],
   "source": [
    "img = cv2.imread(\"Automatic-Answer-Grader-master/dataset/A/a1.jpg\")\n",
    "img"
   ]
  },
  {
   "cell_type": "code",
   "execution_count": 14,
   "metadata": {},
   "outputs": [],
   "source": [
    "img"
   ]
  },
  {
   "cell_type": "code",
   "execution_count": 16,
   "metadata": {},
   "outputs": [
    {
     "name": "stdout",
     "output_type": "stream",
     "text": [
      "Automatic-Answer-Grader-master//dataset/J\n",
      "Automatic-Answer-Grader-master//dataset/J\n",
      "Automatic-Answer-Grader-master//dataset/J\n",
      "Automatic-Answer-Grader-master//dataset/J\n",
      "Automatic-Answer-Grader-master//dataset/J\n",
      "Automatic-Answer-Grader-master//dataset/J\n",
      "Automatic-Answer-Grader-master//dataset/J\n",
      "Automatic-Answer-Grader-master//dataset/J\n",
      "Automatic-Answer-Grader-master//dataset/J\n",
      "Automatic-Answer-Grader-master//dataset/J\n"
     ]
    }
   ],
   "source": [
    "i=4\n",
    "for path in glob.glob(\"Automatic-Answer-Grader-master//dataset//*\"):\n",
    "    for img_path in glob.glob(os.path.join(path, \"*.jpg\")):\n",
    "        if(i>=0):\n",
    "            print(path)\n",
    "            pt = path.split(\"\\\\\")[-1]\n",
    "            print(pt)\n",
    "            i = i-1"
   ]
  },
  {
   "cell_type": "code",
   "execution_count": null,
   "metadata": {},
   "outputs": [],
   "source": []
  },
  {
   "cell_type": "code",
   "execution_count": 17,
   "metadata": {},
   "outputs": [
    {
     "name": "stdout",
     "output_type": "stream",
     "text": [
      "Automatic-Answer-Grader-master//dataset/J/j17.jpg\n",
      "Automatic-Answer-Grader-master//dataset/J/j9.jpg\n",
      "Automatic-Answer-Grader-master//dataset/J/j2.jpg\n",
      "Automatic-Answer-Grader-master//dataset/J/j18.jpg\n",
      "Automatic-Answer-Grader-master//dataset/J/j16.jpg\n",
      "Automatic-Answer-Grader-master//dataset/J/j20.jpg\n",
      "Automatic-Answer-Grader-master//dataset/J/j3.jpg\n",
      "Automatic-Answer-Grader-master//dataset/J/j19.jpg\n",
      "Automatic-Answer-Grader-master//dataset/J/j15.jpg\n",
      "Automatic-Answer-Grader-master//dataset/J/j1.jpg\n",
      "Automatic-Answer-Grader-master//dataset/J/j7.jpg\n",
      "Automatic-Answer-Grader-master//dataset/J/j11.jpg\n",
      "Automatic-Answer-Grader-master//dataset/J/j12.jpg\n",
      "Automatic-Answer-Grader-master//dataset/J/j4.jpg\n",
      "Automatic-Answer-Grader-master//dataset/J/j10.jpg\n",
      "Automatic-Answer-Grader-master//dataset/J/j6.jpg\n",
      "Automatic-Answer-Grader-master//dataset/J/j8.jpg\n",
      "Automatic-Answer-Grader-master//dataset/J/j5.jpg\n",
      "Automatic-Answer-Grader-master//dataset/J/j13.jpg\n",
      "Automatic-Answer-Grader-master//dataset/J/j14.jpg\n",
      "Automatic-Answer-Grader-master//dataset/G/g13.jpg\n",
      "Automatic-Answer-Grader-master//dataset/G/g16.jpg\n",
      "Automatic-Answer-Grader-master//dataset/G/g1.jpg\n",
      "Automatic-Answer-Grader-master//dataset/G/g12.jpg\n",
      "Automatic-Answer-Grader-master//dataset/G/g6.jpg\n",
      "Automatic-Answer-Grader-master//dataset/G/g17.jpg\n",
      "Automatic-Answer-Grader-master//dataset/G/g20.jpg\n",
      "Automatic-Answer-Grader-master//dataset/G/g9.jpg\n",
      "Automatic-Answer-Grader-master//dataset/G/g10.jpg\n",
      "Automatic-Answer-Grader-master//dataset/G/g2.jpg\n",
      "Automatic-Answer-Grader-master//dataset/G/g11.jpg\n",
      "Automatic-Answer-Grader-master//dataset/G/g15.jpg\n",
      "Automatic-Answer-Grader-master//dataset/G/g19.jpg\n",
      "Automatic-Answer-Grader-master//dataset/G/g5.jpg\n",
      "Automatic-Answer-Grader-master//dataset/G/g7.jpg\n",
      "Automatic-Answer-Grader-master//dataset/G/g8.jpg\n",
      "Automatic-Answer-Grader-master//dataset/G/g18.jpg\n",
      "Automatic-Answer-Grader-master//dataset/G/g4.jpg\n",
      "Automatic-Answer-Grader-master//dataset/G/g3.jpg\n",
      "Automatic-Answer-Grader-master//dataset/G/g14.jpg\n",
      "Automatic-Answer-Grader-master//dataset/M/m20.jpg\n",
      "Automatic-Answer-Grader-master//dataset/M/m10.jpg\n",
      "Automatic-Answer-Grader-master//dataset/M/m2.jpg\n",
      "Automatic-Answer-Grader-master//dataset/M/m19.jpg\n",
      "Automatic-Answer-Grader-master//dataset/M/m12.jpg\n",
      "Automatic-Answer-Grader-master//dataset/M/m5.jpg\n",
      "Automatic-Answer-Grader-master//dataset/M/m1.jpg\n",
      "Automatic-Answer-Grader-master//dataset/M/m15.jpg\n",
      "Automatic-Answer-Grader-master//dataset/M/m6.jpg\n",
      "Automatic-Answer-Grader-master//dataset/M/m4.jpg\n",
      "Automatic-Answer-Grader-master//dataset/M/m9.jpg\n",
      "Automatic-Answer-Grader-master//dataset/M/m18.jpg\n",
      "Automatic-Answer-Grader-master//dataset/M/m17.jpg\n",
      "Automatic-Answer-Grader-master//dataset/M/m3.jpg\n",
      "Automatic-Answer-Grader-master//dataset/M/m8.jpg\n",
      "Automatic-Answer-Grader-master//dataset/M/m13.jpg\n",
      "Automatic-Answer-Grader-master//dataset/M/m14.jpg\n",
      "Automatic-Answer-Grader-master//dataset/M/m7.jpg\n",
      "Automatic-Answer-Grader-master//dataset/M/m11.jpg\n",
      "Automatic-Answer-Grader-master//dataset/M/m16.jpg\n",
      "Automatic-Answer-Grader-master//dataset/T/t12.jpg\n",
      "Automatic-Answer-Grader-master//dataset/T/t16.jpg\n",
      "Automatic-Answer-Grader-master//dataset/T/t9.jpg\n",
      "Automatic-Answer-Grader-master//dataset/T/t3.jpg\n",
      "Automatic-Answer-Grader-master//dataset/T/t4.jpg\n",
      "Automatic-Answer-Grader-master//dataset/T/t19.jpg\n",
      "Automatic-Answer-Grader-master//dataset/T/t7.jpg\n",
      "Automatic-Answer-Grader-master//dataset/T/t17.jpg\n",
      "Automatic-Answer-Grader-master//dataset/T/t8.jpg\n",
      "Automatic-Answer-Grader-master//dataset/T/t14.jpg\n",
      "Automatic-Answer-Grader-master//dataset/T/t2.jpg\n",
      "Automatic-Answer-Grader-master//dataset/T/t6.jpg\n",
      "Automatic-Answer-Grader-master//dataset/T/t11.jpg\n",
      "Automatic-Answer-Grader-master//dataset/T/t18.jpg\n",
      "Automatic-Answer-Grader-master//dataset/T/t10.jpg\n",
      "Automatic-Answer-Grader-master//dataset/T/t1.jpg\n",
      "Automatic-Answer-Grader-master//dataset/T/t5.jpg\n",
      "Automatic-Answer-Grader-master//dataset/T/t13.jpg\n",
      "Automatic-Answer-Grader-master//dataset/T/t15.jpg\n",
      "Automatic-Answer-Grader-master//dataset/T/t20.jpg\n",
      "Automatic-Answer-Grader-master//dataset/H/h9.jpg\n",
      "Automatic-Answer-Grader-master//dataset/H/h6.jpg\n",
      "Automatic-Answer-Grader-master//dataset/H/h16.jpg\n",
      "Automatic-Answer-Grader-master//dataset/H/h4.jpg\n",
      "Automatic-Answer-Grader-master//dataset/H/h15.jpg\n",
      "Automatic-Answer-Grader-master//dataset/H/h17.jpg\n",
      "Automatic-Answer-Grader-master//dataset/H/h18.jpg\n",
      "Automatic-Answer-Grader-master//dataset/H/h10.jpg\n",
      "Automatic-Answer-Grader-master//dataset/H/h1.jpg\n",
      "Automatic-Answer-Grader-master//dataset/H/h14.jpg\n",
      "Automatic-Answer-Grader-master//dataset/H/h3.jpg\n",
      "Automatic-Answer-Grader-master//dataset/H/h8.jpg\n",
      "Automatic-Answer-Grader-master//dataset/H/h7.jpg\n",
      "Automatic-Answer-Grader-master//dataset/H/h2.jpg\n",
      "Automatic-Answer-Grader-master//dataset/H/h13.jpg\n",
      "Automatic-Answer-Grader-master//dataset/H/h20.jpg\n",
      "Automatic-Answer-Grader-master//dataset/H/h5.jpg\n",
      "Automatic-Answer-Grader-master//dataset/H/h12.jpg\n",
      "Automatic-Answer-Grader-master//dataset/H/h11.jpg\n",
      "Automatic-Answer-Grader-master//dataset/H/h19.jpg\n",
      "Automatic-Answer-Grader-master//dataset/W/w11.jpg\n",
      "Automatic-Answer-Grader-master//dataset/W/w8.jpg\n",
      "Automatic-Answer-Grader-master//dataset/W/w5.jpg\n",
      "Automatic-Answer-Grader-master//dataset/W/w3.jpg\n",
      "Automatic-Answer-Grader-master//dataset/W/w12.jpg\n",
      "Automatic-Answer-Grader-master//dataset/W/w14.jpg\n",
      "Automatic-Answer-Grader-master//dataset/W/w19.jpg\n",
      "Automatic-Answer-Grader-master//dataset/W/w4.jpg\n",
      "Automatic-Answer-Grader-master//dataset/W/w1.jpg\n",
      "Automatic-Answer-Grader-master//dataset/W/w16.jpg\n",
      "Automatic-Answer-Grader-master//dataset/W/w7.jpg\n",
      "Automatic-Answer-Grader-master//dataset/W/w20.jpg\n",
      "Automatic-Answer-Grader-master//dataset/W/w2.jpg\n",
      "Automatic-Answer-Grader-master//dataset/W/w17.jpg\n",
      "Automatic-Answer-Grader-master//dataset/W/w10.jpg\n",
      "Automatic-Answer-Grader-master//dataset/W/w18.jpg\n",
      "Automatic-Answer-Grader-master//dataset/W/w15.jpg\n",
      "Automatic-Answer-Grader-master//dataset/W/w6.jpg\n",
      "Automatic-Answer-Grader-master//dataset/W/w13.jpg\n",
      "Automatic-Answer-Grader-master//dataset/W/w9.jpg\n",
      "Automatic-Answer-Grader-master//dataset/I/i12.jpg\n",
      "Automatic-Answer-Grader-master//dataset/I/i17.jpg\n",
      "Automatic-Answer-Grader-master//dataset/I/i11.jpg\n",
      "Automatic-Answer-Grader-master//dataset/I/i2.jpg\n",
      "Automatic-Answer-Grader-master//dataset/I/i13.jpg\n",
      "Automatic-Answer-Grader-master//dataset/I/i14.jpg\n",
      "Automatic-Answer-Grader-master//dataset/I/i16.jpg\n",
      "Automatic-Answer-Grader-master//dataset/I/i19.jpg\n",
      "Automatic-Answer-Grader-master//dataset/I/i9.jpg\n",
      "Automatic-Answer-Grader-master//dataset/I/i1.jpg\n",
      "Automatic-Answer-Grader-master//dataset/I/i7.jpg\n",
      "Automatic-Answer-Grader-master//dataset/I/i20.jpg\n",
      "Automatic-Answer-Grader-master//dataset/I/i15.jpg\n",
      "Automatic-Answer-Grader-master//dataset/I/i10.jpg\n",
      "Automatic-Answer-Grader-master//dataset/I/i18.jpg\n",
      "Automatic-Answer-Grader-master//dataset/I/i6.jpg\n",
      "Automatic-Answer-Grader-master//dataset/I/i5.jpg\n",
      "Automatic-Answer-Grader-master//dataset/I/i8.jpg\n",
      "Automatic-Answer-Grader-master//dataset/I/i3.jpg\n",
      "Automatic-Answer-Grader-master//dataset/I/i4.jpg\n",
      "Automatic-Answer-Grader-master//dataset/A/a16.jpg\n",
      "Automatic-Answer-Grader-master//dataset/A/a18.jpg\n",
      "Automatic-Answer-Grader-master//dataset/A/a14.jpg\n",
      "Automatic-Answer-Grader-master//dataset/A/a9.jpg\n",
      "Automatic-Answer-Grader-master//dataset/A/a11.jpg\n",
      "Automatic-Answer-Grader-master//dataset/A/a10.jpg\n",
      "Automatic-Answer-Grader-master//dataset/A/a19.jpg\n",
      "Automatic-Answer-Grader-master//dataset/A/a15.jpg\n",
      "Automatic-Answer-Grader-master//dataset/A/a2.jpg\n",
      "Automatic-Answer-Grader-master//dataset/A/a17.jpg\n",
      "Automatic-Answer-Grader-master//dataset/A/a3.jpg\n",
      "Automatic-Answer-Grader-master//dataset/A/a6.jpg\n",
      "Automatic-Answer-Grader-master//dataset/A/a7.jpg\n",
      "Automatic-Answer-Grader-master//dataset/A/a5.jpg\n",
      "Automatic-Answer-Grader-master//dataset/A/a8.jpg\n",
      "Automatic-Answer-Grader-master//dataset/A/a20.jpg\n",
      "Automatic-Answer-Grader-master//dataset/A/a12.jpg\n",
      "Automatic-Answer-Grader-master//dataset/A/a4.jpg\n",
      "Automatic-Answer-Grader-master//dataset/A/a13.jpg\n",
      "Automatic-Answer-Grader-master//dataset/A/a1.jpg\n",
      "Automatic-Answer-Grader-master//dataset/V/v5.jpg\n",
      "Automatic-Answer-Grader-master//dataset/V/v2.jpg\n",
      "Automatic-Answer-Grader-master//dataset/V/v8.jpg\n",
      "Automatic-Answer-Grader-master//dataset/V/v7.jpg\n",
      "Automatic-Answer-Grader-master//dataset/V/v14.jpg\n",
      "Automatic-Answer-Grader-master//dataset/V/v9.jpg\n",
      "Automatic-Answer-Grader-master//dataset/V/v12.jpg\n",
      "Automatic-Answer-Grader-master//dataset/V/v16.jpg\n",
      "Automatic-Answer-Grader-master//dataset/V/v17.jpg\n",
      "Automatic-Answer-Grader-master//dataset/V/v11.jpg\n",
      "Automatic-Answer-Grader-master//dataset/V/v15.jpg\n",
      "Automatic-Answer-Grader-master//dataset/V/v6.jpg\n",
      "Automatic-Answer-Grader-master//dataset/V/v18.jpg\n",
      "Automatic-Answer-Grader-master//dataset/V/v19.jpg\n",
      "Automatic-Answer-Grader-master//dataset/V/v13.jpg\n",
      "Automatic-Answer-Grader-master//dataset/V/v4.jpg\n",
      "Automatic-Answer-Grader-master//dataset/V/v10.jpg\n",
      "Automatic-Answer-Grader-master//dataset/V/v1.jpg\n",
      "Automatic-Answer-Grader-master//dataset/V/v3.jpg\n",
      "Automatic-Answer-Grader-master//dataset/V/v20.jpg\n",
      "Automatic-Answer-Grader-master//dataset/X/x3.jpg\n",
      "Automatic-Answer-Grader-master//dataset/X/x6.jpg\n",
      "Automatic-Answer-Grader-master//dataset/X/x4.jpg\n",
      "Automatic-Answer-Grader-master//dataset/X/x12.jpg\n",
      "Automatic-Answer-Grader-master//dataset/X/x2.jpg\n",
      "Automatic-Answer-Grader-master//dataset/X/x1.jpg\n",
      "Automatic-Answer-Grader-master//dataset/X/x17.jpg\n",
      "Automatic-Answer-Grader-master//dataset/X/x20.jpg\n",
      "Automatic-Answer-Grader-master//dataset/X/x14.jpg\n",
      "Automatic-Answer-Grader-master//dataset/X/x10.jpg\n",
      "Automatic-Answer-Grader-master//dataset/X/x5.jpg\n",
      "Automatic-Answer-Grader-master//dataset/X/x15.jpg\n",
      "Automatic-Answer-Grader-master//dataset/X/x11.jpg\n",
      "Automatic-Answer-Grader-master//dataset/X/x7.jpg\n",
      "Automatic-Answer-Grader-master//dataset/X/x16.jpg\n",
      "Automatic-Answer-Grader-master//dataset/X/x19.jpg\n",
      "Automatic-Answer-Grader-master//dataset/X/x8.jpg\n",
      "Automatic-Answer-Grader-master//dataset/X/x9.jpg\n",
      "Automatic-Answer-Grader-master//dataset/X/x18.jpg\n",
      "Automatic-Answer-Grader-master//dataset/X/x13.jpg\n",
      "Automatic-Answer-Grader-master//dataset/S/s12.jpg\n",
      "Automatic-Answer-Grader-master//dataset/S/s1.jpg\n",
      "Automatic-Answer-Grader-master//dataset/S/s5.jpg\n",
      "Automatic-Answer-Grader-master//dataset/S/s7.jpg\n",
      "Automatic-Answer-Grader-master//dataset/S/s15.jpg\n",
      "Automatic-Answer-Grader-master//dataset/S/s18.jpg\n",
      "Automatic-Answer-Grader-master//dataset/S/s16.jpg\n",
      "Automatic-Answer-Grader-master//dataset/S/s17.jpg\n",
      "Automatic-Answer-Grader-master//dataset/S/s11.jpg\n",
      "Automatic-Answer-Grader-master//dataset/S/s4.jpg\n",
      "Automatic-Answer-Grader-master//dataset/S/s6.jpg\n",
      "Automatic-Answer-Grader-master//dataset/S/s19.jpg\n",
      "Automatic-Answer-Grader-master//dataset/S/s20.jpg\n",
      "Automatic-Answer-Grader-master//dataset/S/s3.jpg\n",
      "Automatic-Answer-Grader-master//dataset/S/s14.jpg\n",
      "Automatic-Answer-Grader-master//dataset/S/s13.jpg\n",
      "Automatic-Answer-Grader-master//dataset/S/s9.jpg\n",
      "Automatic-Answer-Grader-master//dataset/S/s8.jpg\n",
      "Automatic-Answer-Grader-master//dataset/S/s2.jpg\n",
      "Automatic-Answer-Grader-master//dataset/S/s10.jpg\n",
      "Automatic-Answer-Grader-master//dataset/L/l13.jpg\n",
      "Automatic-Answer-Grader-master//dataset/L/l18.jpg\n",
      "Automatic-Answer-Grader-master//dataset/L/l2.jpg\n",
      "Automatic-Answer-Grader-master//dataset/L/l5.jpg\n",
      "Automatic-Answer-Grader-master//dataset/L/l15.jpg\n",
      "Automatic-Answer-Grader-master//dataset/L/l6.jpg\n",
      "Automatic-Answer-Grader-master//dataset/L/l3.jpg\n",
      "Automatic-Answer-Grader-master//dataset/L/l16.jpg\n",
      "Automatic-Answer-Grader-master//dataset/L/l19.jpg\n",
      "Automatic-Answer-Grader-master//dataset/L/l4.jpg\n",
      "Automatic-Answer-Grader-master//dataset/L/l11.jpg\n",
      "Automatic-Answer-Grader-master//dataset/L/l8.jpg\n",
      "Automatic-Answer-Grader-master//dataset/L/l10.jpg\n",
      "Automatic-Answer-Grader-master//dataset/L/l12.jpg\n",
      "Automatic-Answer-Grader-master//dataset/L/l14.jpg\n",
      "Automatic-Answer-Grader-master//dataset/L/l9.jpg\n",
      "Automatic-Answer-Grader-master//dataset/L/l1.jpg\n",
      "Automatic-Answer-Grader-master//dataset/L/l17.jpg\n",
      "Automatic-Answer-Grader-master//dataset/L/l20.jpg\n",
      "Automatic-Answer-Grader-master//dataset/L/l7.jpg\n",
      "Automatic-Answer-Grader-master//dataset/F/f17.jpg\n",
      "Automatic-Answer-Grader-master//dataset/F/f1.jpg\n",
      "Automatic-Answer-Grader-master//dataset/F/f3.jpg\n",
      "Automatic-Answer-Grader-master//dataset/F/f2.jpg\n",
      "Automatic-Answer-Grader-master//dataset/F/f19.jpg\n",
      "Automatic-Answer-Grader-master//dataset/F/f12.jpg\n",
      "Automatic-Answer-Grader-master//dataset/F/f14.jpg\n",
      "Automatic-Answer-Grader-master//dataset/F/f11.jpg\n",
      "Automatic-Answer-Grader-master//dataset/F/f15.jpg\n",
      "Automatic-Answer-Grader-master//dataset/F/f5.jpg\n",
      "Automatic-Answer-Grader-master//dataset/F/f13.jpg\n",
      "Automatic-Answer-Grader-master//dataset/F/f16.jpg\n",
      "Automatic-Answer-Grader-master//dataset/F/f20.jpg\n",
      "Automatic-Answer-Grader-master//dataset/F/f18.jpg\n",
      "Automatic-Answer-Grader-master//dataset/F/f4.jpg\n",
      "Automatic-Answer-Grader-master//dataset/F/f7.jpg\n",
      "Automatic-Answer-Grader-master//dataset/F/f9.jpg\n",
      "Automatic-Answer-Grader-master//dataset/F/f8.jpg\n",
      "Automatic-Answer-Grader-master//dataset/F/f6.jpg\n",
      "Automatic-Answer-Grader-master//dataset/F/f10.jpg\n",
      "Automatic-Answer-Grader-master//dataset/B/b9.jpg\n",
      "Automatic-Answer-Grader-master//dataset/B/b16.jpg\n",
      "Automatic-Answer-Grader-master//dataset/B/b6.jpg\n",
      "Automatic-Answer-Grader-master//dataset/B/b3.jpg\n",
      "Automatic-Answer-Grader-master//dataset/B/b11.jpg\n",
      "Automatic-Answer-Grader-master//dataset/B/b15.jpg\n",
      "Automatic-Answer-Grader-master//dataset/B/b12.jpg\n",
      "Automatic-Answer-Grader-master//dataset/B/b19.jpg\n",
      "Automatic-Answer-Grader-master//dataset/B/b18.jpg\n",
      "Automatic-Answer-Grader-master//dataset/B/b20.jpg\n",
      "Automatic-Answer-Grader-master//dataset/B/b5.jpg\n",
      "Automatic-Answer-Grader-master//dataset/B/b7.jpg\n",
      "Automatic-Answer-Grader-master//dataset/B/b1.jpg\n",
      "Automatic-Answer-Grader-master//dataset/B/b2.jpg\n",
      "Automatic-Answer-Grader-master//dataset/B/b13.jpg\n",
      "Automatic-Answer-Grader-master//dataset/B/b10.jpg\n",
      "Automatic-Answer-Grader-master//dataset/B/b17.jpg\n",
      "Automatic-Answer-Grader-master//dataset/B/b8.jpg\n",
      "Automatic-Answer-Grader-master//dataset/B/b14.jpg\n",
      "Automatic-Answer-Grader-master//dataset/B/b4.jpg\n",
      "Automatic-Answer-Grader-master//dataset/N/n16.jpg\n",
      "Automatic-Answer-Grader-master//dataset/N/n8.jpg\n",
      "Automatic-Answer-Grader-master//dataset/N/n11.jpg\n",
      "Automatic-Answer-Grader-master//dataset/N/n19.jpg\n",
      "Automatic-Answer-Grader-master//dataset/N/n13.jpg\n",
      "Automatic-Answer-Grader-master//dataset/N/n7.jpg\n",
      "Automatic-Answer-Grader-master//dataset/N/n17.jpg\n",
      "Automatic-Answer-Grader-master//dataset/N/n14.jpg\n",
      "Automatic-Answer-Grader-master//dataset/N/n10.jpg\n",
      "Automatic-Answer-Grader-master//dataset/N/n20.jpg\n",
      "Automatic-Answer-Grader-master//dataset/N/n4.jpg\n",
      "Automatic-Answer-Grader-master//dataset/N/n9.jpg\n",
      "Automatic-Answer-Grader-master//dataset/N/n5.jpg\n",
      "Automatic-Answer-Grader-master//dataset/N/n12.jpg\n",
      "Automatic-Answer-Grader-master//dataset/N/n6.jpg\n",
      "Automatic-Answer-Grader-master//dataset/N/n1.jpg\n",
      "Automatic-Answer-Grader-master//dataset/N/n18.jpg\n",
      "Automatic-Answer-Grader-master//dataset/N/n3.jpg\n",
      "Automatic-Answer-Grader-master//dataset/N/n15.jpg\n",
      "Automatic-Answer-Grader-master//dataset/N/n2.jpg\n",
      "Automatic-Answer-Grader-master//dataset/Y/y1.jpg\n",
      "Automatic-Answer-Grader-master//dataset/Y/y11.jpg\n",
      "Automatic-Answer-Grader-master//dataset/Y/y13.jpg\n",
      "Automatic-Answer-Grader-master//dataset/Y/y10.jpg\n",
      "Automatic-Answer-Grader-master//dataset/Y/y17.jpg\n",
      "Automatic-Answer-Grader-master//dataset/Y/y5.jpg\n",
      "Automatic-Answer-Grader-master//dataset/Y/y9.jpg\n",
      "Automatic-Answer-Grader-master//dataset/Y/y16.jpg\n",
      "Automatic-Answer-Grader-master//dataset/Y/y19.jpg\n",
      "Automatic-Answer-Grader-master//dataset/Y/y14.jpg\n",
      "Automatic-Answer-Grader-master//dataset/Y/y7.jpg\n",
      "Automatic-Answer-Grader-master//dataset/Y/y15.jpg\n",
      "Automatic-Answer-Grader-master//dataset/Y/y20.jpg\n",
      "Automatic-Answer-Grader-master//dataset/Y/y3.jpg\n",
      "Automatic-Answer-Grader-master//dataset/Y/y2.jpg\n",
      "Automatic-Answer-Grader-master//dataset/Y/y18.jpg\n",
      "Automatic-Answer-Grader-master//dataset/Y/y8.jpg\n",
      "Automatic-Answer-Grader-master//dataset/Y/y12.jpg\n",
      "Automatic-Answer-Grader-master//dataset/Y/y6.jpg\n",
      "Automatic-Answer-Grader-master//dataset/Y/y4.jpg\n",
      "Automatic-Answer-Grader-master//dataset/R/r7.jpg\n",
      "Automatic-Answer-Grader-master//dataset/R/r11.jpg\n",
      "Automatic-Answer-Grader-master//dataset/R/r14.jpg\n",
      "Automatic-Answer-Grader-master//dataset/R/r2.jpg\n",
      "Automatic-Answer-Grader-master//dataset/R/r18.jpg\n",
      "Automatic-Answer-Grader-master//dataset/R/r6.jpg\n",
      "Automatic-Answer-Grader-master//dataset/R/r13.jpg\n",
      "Automatic-Answer-Grader-master//dataset/R/r4.jpg\n",
      "Automatic-Answer-Grader-master//dataset/R/r5.jpg\n",
      "Automatic-Answer-Grader-master//dataset/R/r16.jpg\n",
      "Automatic-Answer-Grader-master//dataset/R/r9.jpg\n",
      "Automatic-Answer-Grader-master//dataset/R/r15.jpg\n",
      "Automatic-Answer-Grader-master//dataset/R/r1.jpg\n",
      "Automatic-Answer-Grader-master//dataset/R/r10.jpg\n",
      "Automatic-Answer-Grader-master//dataset/R/r12.jpg\n",
      "Automatic-Answer-Grader-master//dataset/R/r3.jpg\n",
      "Automatic-Answer-Grader-master//dataset/R/r17.jpg\n",
      "Automatic-Answer-Grader-master//dataset/R/r8.jpg\n",
      "Automatic-Answer-Grader-master//dataset/R/r20.jpg\n",
      "Automatic-Answer-Grader-master//dataset/R/r19.jpg\n",
      "Automatic-Answer-Grader-master//dataset/K/k7.jpg\n",
      "Automatic-Answer-Grader-master//dataset/K/k15.jpg\n",
      "Automatic-Answer-Grader-master//dataset/K/k9.jpg\n",
      "Automatic-Answer-Grader-master//dataset/K/k3.jpg\n",
      "Automatic-Answer-Grader-master//dataset/K/k6.jpg\n",
      "Automatic-Answer-Grader-master//dataset/K/k13.jpg\n",
      "Automatic-Answer-Grader-master//dataset/K/k12.jpg\n",
      "Automatic-Answer-Grader-master//dataset/K/k8.jpg\n",
      "Automatic-Answer-Grader-master//dataset/K/k5.jpg\n",
      "Automatic-Answer-Grader-master//dataset/K/k4.jpg\n",
      "Automatic-Answer-Grader-master//dataset/K/k11.jpg\n",
      "Automatic-Answer-Grader-master//dataset/K/k18.jpg\n",
      "Automatic-Answer-Grader-master//dataset/K/k2.jpg\n",
      "Automatic-Answer-Grader-master//dataset/K/k20.jpg\n",
      "Automatic-Answer-Grader-master//dataset/K/k19.jpg\n",
      "Automatic-Answer-Grader-master//dataset/K/k1.jpg\n",
      "Automatic-Answer-Grader-master//dataset/K/k14.jpg\n",
      "Automatic-Answer-Grader-master//dataset/K/k17.jpg\n",
      "Automatic-Answer-Grader-master//dataset/K/k16.jpg\n",
      "Automatic-Answer-Grader-master//dataset/K/k10.jpg\n",
      "Automatic-Answer-Grader-master//dataset/O/o16.jpg\n",
      "Automatic-Answer-Grader-master//dataset/O/o12.jpg\n",
      "Automatic-Answer-Grader-master//dataset/O/o11.jpg\n",
      "Automatic-Answer-Grader-master//dataset/O/o15.jpg\n",
      "Automatic-Answer-Grader-master//dataset/O/o17.jpg\n",
      "Automatic-Answer-Grader-master//dataset/O/o6.jpg\n",
      "Automatic-Answer-Grader-master//dataset/O/o18.jpg\n",
      "Automatic-Answer-Grader-master//dataset/O/o9.jpg\n",
      "Automatic-Answer-Grader-master//dataset/O/o4.jpg\n",
      "Automatic-Answer-Grader-master//dataset/O/o19.jpg\n",
      "Automatic-Answer-Grader-master//dataset/O/o20.jpg\n",
      "Automatic-Answer-Grader-master//dataset/O/o7.jpg\n",
      "Automatic-Answer-Grader-master//dataset/O/o14.jpg\n",
      "Automatic-Answer-Grader-master//dataset/O/o13.jpg\n",
      "Automatic-Answer-Grader-master//dataset/O/o8.jpg\n",
      "Automatic-Answer-Grader-master//dataset/O/o10.jpg\n",
      "Automatic-Answer-Grader-master//dataset/O/o1.jpg\n",
      "Automatic-Answer-Grader-master//dataset/O/o2.jpg\n",
      "Automatic-Answer-Grader-master//dataset/O/o3.jpg\n",
      "Automatic-Answer-Grader-master//dataset/O/o5.jpg\n",
      "Automatic-Answer-Grader-master//dataset/P/p2.jpg\n",
      "Automatic-Answer-Grader-master//dataset/P/p1.jpg\n",
      "Automatic-Answer-Grader-master//dataset/P/p4.jpg\n",
      "Automatic-Answer-Grader-master//dataset/P/p7.jpg\n",
      "Automatic-Answer-Grader-master//dataset/P/p16.jpg\n",
      "Automatic-Answer-Grader-master//dataset/P/p11.jpg\n",
      "Automatic-Answer-Grader-master//dataset/P/p14.jpg\n",
      "Automatic-Answer-Grader-master//dataset/P/p3.jpg\n",
      "Automatic-Answer-Grader-master//dataset/P/p20.jpg\n",
      "Automatic-Answer-Grader-master//dataset/P/p6.jpg\n",
      "Automatic-Answer-Grader-master//dataset/P/p5.jpg\n",
      "Automatic-Answer-Grader-master//dataset/P/p15.jpg\n",
      "Automatic-Answer-Grader-master//dataset/P/p19.jpg\n",
      "Automatic-Answer-Grader-master//dataset/P/p9.jpg\n",
      "Automatic-Answer-Grader-master//dataset/P/p13.jpg\n",
      "Automatic-Answer-Grader-master//dataset/P/p12.jpg\n",
      "Automatic-Answer-Grader-master//dataset/P/p18.jpg\n",
      "Automatic-Answer-Grader-master//dataset/P/p17.jpg\n",
      "Automatic-Answer-Grader-master//dataset/P/p8.jpg\n",
      "Automatic-Answer-Grader-master//dataset/P/p10.jpg\n",
      "Automatic-Answer-Grader-master//dataset/U/u11.jpg\n",
      "Automatic-Answer-Grader-master//dataset/U/u3.jpg\n",
      "Automatic-Answer-Grader-master//dataset/U/u19.jpg\n",
      "Automatic-Answer-Grader-master//dataset/U/u17.jpg\n",
      "Automatic-Answer-Grader-master//dataset/U/u1.jpg\n",
      "Automatic-Answer-Grader-master//dataset/U/u14.jpg\n",
      "Automatic-Answer-Grader-master//dataset/U/u8.jpg\n",
      "Automatic-Answer-Grader-master//dataset/U/u10.jpg\n",
      "Automatic-Answer-Grader-master//dataset/U/u15.jpg\n",
      "Automatic-Answer-Grader-master//dataset/U/u4.jpg\n",
      "Automatic-Answer-Grader-master//dataset/U/u18.jpg\n",
      "Automatic-Answer-Grader-master//dataset/U/u6.jpg\n",
      "Automatic-Answer-Grader-master//dataset/U/u2.jpg\n",
      "Automatic-Answer-Grader-master//dataset/U/u13.jpg\n",
      "Automatic-Answer-Grader-master//dataset/U/u20.jpg\n",
      "Automatic-Answer-Grader-master//dataset/U/u12.jpg\n",
      "Automatic-Answer-Grader-master//dataset/U/u16.jpg\n",
      "Automatic-Answer-Grader-master//dataset/U/u7.jpg\n",
      "Automatic-Answer-Grader-master//dataset/U/u5.jpg\n",
      "Automatic-Answer-Grader-master//dataset/U/u9.jpg\n",
      "Automatic-Answer-Grader-master//dataset/Q/q4.jpg\n",
      "Automatic-Answer-Grader-master//dataset/Q/q8.jpg\n",
      "Automatic-Answer-Grader-master//dataset/Q/q19.jpg\n",
      "Automatic-Answer-Grader-master//dataset/Q/q5.jpg\n",
      "Automatic-Answer-Grader-master//dataset/Q/q14.jpg\n",
      "Automatic-Answer-Grader-master//dataset/Q/q2.jpg\n",
      "Automatic-Answer-Grader-master//dataset/Q/q17.jpg\n",
      "Automatic-Answer-Grader-master//dataset/Q/q16.jpg\n",
      "Automatic-Answer-Grader-master//dataset/Q/q13.jpg\n",
      "Automatic-Answer-Grader-master//dataset/Q/q11.jpg\n",
      "Automatic-Answer-Grader-master//dataset/Q/q6.jpg\n",
      "Automatic-Answer-Grader-master//dataset/Q/q12.jpg\n",
      "Automatic-Answer-Grader-master//dataset/Q/q20.jpg\n",
      "Automatic-Answer-Grader-master//dataset/Q/q3.jpg\n",
      "Automatic-Answer-Grader-master//dataset/Q/q7.jpg\n",
      "Automatic-Answer-Grader-master//dataset/Q/q15.jpg\n",
      "Automatic-Answer-Grader-master//dataset/Q/q1.jpg\n",
      "Automatic-Answer-Grader-master//dataset/Q/q10.jpg\n",
      "Automatic-Answer-Grader-master//dataset/Q/q9.jpg\n",
      "Automatic-Answer-Grader-master//dataset/Q/q18.jpg\n",
      "Automatic-Answer-Grader-master//dataset/Z/z16.jpg\n",
      "Automatic-Answer-Grader-master//dataset/Z/z2.jpg\n",
      "Automatic-Answer-Grader-master//dataset/Z/z8.jpg\n",
      "Automatic-Answer-Grader-master//dataset/Z/z13.jpg\n",
      "Automatic-Answer-Grader-master//dataset/Z/z17.jpg\n",
      "Automatic-Answer-Grader-master//dataset/Z/z14.jpg\n",
      "Automatic-Answer-Grader-master//dataset/Z/z3.jpg\n",
      "Automatic-Answer-Grader-master//dataset/Z/z5.jpg\n",
      "Automatic-Answer-Grader-master//dataset/Z/z18.jpg\n",
      "Automatic-Answer-Grader-master//dataset/Z/z10.jpg\n",
      "Automatic-Answer-Grader-master//dataset/Z/z7.jpg\n",
      "Automatic-Answer-Grader-master//dataset/Z/z6.jpg\n",
      "Automatic-Answer-Grader-master//dataset/Z/z9.jpg\n",
      "Automatic-Answer-Grader-master//dataset/Z/z20.jpg\n",
      "Automatic-Answer-Grader-master//dataset/Z/z19.jpg\n",
      "Automatic-Answer-Grader-master//dataset/Z/z11.jpg\n",
      "Automatic-Answer-Grader-master//dataset/Z/z4.jpg\n",
      "Automatic-Answer-Grader-master//dataset/Z/z12.jpg\n",
      "Automatic-Answer-Grader-master//dataset/Z/z1.jpg\n",
      "Automatic-Answer-Grader-master//dataset/Z/z15.jpg\n",
      "Automatic-Answer-Grader-master//dataset/C/c3.jpg\n",
      "Automatic-Answer-Grader-master//dataset/C/c9.jpg\n",
      "Automatic-Answer-Grader-master//dataset/C/c8.jpg\n",
      "Automatic-Answer-Grader-master//dataset/C/c4.jpg\n",
      "Automatic-Answer-Grader-master//dataset/C/c1.jpg\n",
      "Automatic-Answer-Grader-master//dataset/C/c14.jpg\n",
      "Automatic-Answer-Grader-master//dataset/C/c5.jpg\n",
      "Automatic-Answer-Grader-master//dataset/C/c16.jpg\n",
      "Automatic-Answer-Grader-master//dataset/C/c12.jpg\n",
      "Automatic-Answer-Grader-master//dataset/C/c13.jpg\n",
      "Automatic-Answer-Grader-master//dataset/C/c10.jpg\n",
      "Automatic-Answer-Grader-master//dataset/C/c6.jpg\n",
      "Automatic-Answer-Grader-master//dataset/C/c17.jpg\n",
      "Automatic-Answer-Grader-master//dataset/C/c11.jpg\n",
      "Automatic-Answer-Grader-master//dataset/C/c2.jpg\n",
      "Automatic-Answer-Grader-master//dataset/C/c15.jpg\n",
      "Automatic-Answer-Grader-master//dataset/C/c7.jpg\n",
      "Automatic-Answer-Grader-master//dataset/C/c20.jpg\n",
      "Automatic-Answer-Grader-master//dataset/C/c18.jpg\n",
      "Automatic-Answer-Grader-master//dataset/C/c19.jpg\n",
      "Automatic-Answer-Grader-master//dataset/E/e8.jpg\n",
      "Automatic-Answer-Grader-master//dataset/E/e7.jpg\n",
      "Automatic-Answer-Grader-master//dataset/E/e5.jpg\n",
      "Automatic-Answer-Grader-master//dataset/E/e11.jpg\n",
      "Automatic-Answer-Grader-master//dataset/E/e3.jpg\n",
      "Automatic-Answer-Grader-master//dataset/E/e10.jpg\n",
      "Automatic-Answer-Grader-master//dataset/E/e16.jpg\n",
      "Automatic-Answer-Grader-master//dataset/E/e9.jpg\n",
      "Automatic-Answer-Grader-master//dataset/E/e2.jpg\n",
      "Automatic-Answer-Grader-master//dataset/E/e19.jpg\n",
      "Automatic-Answer-Grader-master//dataset/E/e20.jpg\n",
      "Automatic-Answer-Grader-master//dataset/E/e15.jpg\n",
      "Automatic-Answer-Grader-master//dataset/E/e13.jpg\n",
      "Automatic-Answer-Grader-master//dataset/E/e17.jpg\n",
      "Automatic-Answer-Grader-master//dataset/E/e6.jpg\n",
      "Automatic-Answer-Grader-master//dataset/E/e18.jpg\n",
      "Automatic-Answer-Grader-master//dataset/E/e4.jpg\n",
      "Automatic-Answer-Grader-master//dataset/E/e1.jpg\n",
      "Automatic-Answer-Grader-master//dataset/E/e14.jpg\n",
      "Automatic-Answer-Grader-master//dataset/E/e12.jpg\n",
      "Automatic-Answer-Grader-master//dataset/D/d16.jpg\n",
      "Automatic-Answer-Grader-master//dataset/D/d20.jpg\n",
      "Automatic-Answer-Grader-master//dataset/D/d17.jpg\n",
      "Automatic-Answer-Grader-master//dataset/D/d4.jpg\n",
      "Automatic-Answer-Grader-master//dataset/D/d3.jpg\n",
      "Automatic-Answer-Grader-master//dataset/D/d1.jpg\n",
      "Automatic-Answer-Grader-master//dataset/D/d14.jpg\n",
      "Automatic-Answer-Grader-master//dataset/D/d19.jpg\n",
      "Automatic-Answer-Grader-master//dataset/D/d18.jpg\n",
      "Automatic-Answer-Grader-master//dataset/D/d10.jpg\n",
      "Automatic-Answer-Grader-master//dataset/D/d9.jpg\n",
      "Automatic-Answer-Grader-master//dataset/D/d7.jpg\n",
      "Automatic-Answer-Grader-master//dataset/D/d13.jpg\n",
      "Automatic-Answer-Grader-master//dataset/D/d15.jpg\n",
      "Automatic-Answer-Grader-master//dataset/D/d12.jpg\n",
      "Automatic-Answer-Grader-master//dataset/D/d6.jpg\n",
      "Automatic-Answer-Grader-master//dataset/D/d2.jpg\n",
      "Automatic-Answer-Grader-master//dataset/D/d8.jpg\n",
      "Automatic-Answer-Grader-master//dataset/D/d11.jpg\n",
      "Automatic-Answer-Grader-master//dataset/D/d5.jpg\n"
     ]
    }
   ],
   "source": [
    "train_images = []\n",
    "train_labels = []\n",
    "\n",
    "for path in glob.glob(\"Automatic-Answer-Grader-master//dataset//*\"):\n",
    "    for img_path in glob.glob(os.path.join(path, \"*.jpg\")):\n",
    "        print(img_path)\n",
    "        img1 = cv2.imread(img_path, cv2.IMREAD_COLOR)\n",
    "        img1 = cv2.resize(img1, (224, 224))\n",
    "        img1 = cv2.cvtColor(img1, cv2.COLOR_RGB2BGR)\n",
    "        train_images.append(img1)\n",
    "        pt = path.split(\"\\\\\")[-1]\n",
    "        train_labels.append(pt)"
   ]
  },
  {
   "cell_type": "code",
   "execution_count": 18,
   "metadata": {},
   "outputs": [
    {
     "data": {
      "text/plain": "<Figure size 720x504 with 0 Axes>"
     },
     "metadata": {
      "transient": {}
     },
     "output_type": "display_data"
    }
   ],
   "source": [
    "i = 4\n",
    "fig = plt.figure(figsize=(10, 7))\n",
    "rows = 2\n",
    "columns = 2\n",
    "for path in glob.glob(\"C:\\\\Users\\\\Satyam Kumar\\\\Downloads\\\\NIK_AI\\\\dataset\\\\*\"):\n",
    "    for img_path in glob.glob(os.path.join(path, \"*.jpg\")):\n",
    "        if (i>0):\n",
    "            img = cv2.imread(img_path)\n",
    "            fig.add_subplot(rows, columns, i)\n",
    "            plt.imshow(img)\n",
    "            p = path.split(\"\\\\\")[-1]\n",
    "            plt.title(p)\n",
    "            i = i-1"
   ]
  },
  {
   "cell_type": "code",
   "execution_count": 19,
   "metadata": {},
   "outputs": [
    {
     "data": {
      "text/plain": "(520, 520)"
     },
     "execution_count": 19,
     "metadata": {},
     "output_type": "execute_result"
    }
   ],
   "source": [
    "len(train_labels), len(train_images)"
   ]
  },
  {
   "cell_type": "code",
   "execution_count": 20,
   "metadata": {},
   "outputs": [],
   "source": [
    "from sklearn.preprocessing import LabelEncoder\n",
    "\n",
    "le = LabelEncoder()\n",
    "label = le.fit_transform(train_labels)"
   ]
  },
  {
   "cell_type": "code",
   "execution_count": 21,
   "metadata": {},
   "outputs": [],
   "source": [
    "train_images = np.array(train_images).astype(\"uint8\")\n",
    "labels = np.array(label)"
   ]
  },
  {
   "cell_type": "code",
   "execution_count": 22,
   "metadata": {},
   "outputs": [
    {
     "data": {
      "text/plain": "array([ 9,  9,  9,  9,  9,  9,  9,  9,  9,  9,  9,  9,  9,  9,  9,  9,  9,\n        9,  9,  9,  6,  6,  6,  6,  6,  6,  6,  6,  6,  6,  6,  6,  6,  6,\n        6,  6,  6,  6,  6,  6, 12, 12, 12, 12, 12, 12, 12, 12, 12, 12, 12,\n       12, 12, 12, 12, 12, 12, 12, 12, 12, 19, 19, 19, 19, 19, 19, 19, 19,\n       19, 19, 19, 19, 19, 19, 19, 19, 19, 19, 19, 19,  7,  7,  7,  7,  7,\n        7,  7,  7,  7,  7,  7,  7,  7,  7,  7,  7,  7,  7,  7,  7, 22, 22,\n       22, 22, 22, 22, 22, 22, 22, 22, 22, 22, 22, 22, 22, 22, 22, 22, 22,\n       22,  8,  8,  8,  8,  8,  8,  8,  8,  8,  8,  8,  8,  8,  8,  8,  8,\n        8,  8,  8,  8,  0,  0,  0,  0,  0,  0,  0,  0,  0,  0,  0,  0,  0,\n        0,  0,  0,  0,  0,  0,  0, 21, 21, 21, 21, 21, 21, 21, 21, 21, 21,\n       21, 21, 21, 21, 21, 21, 21, 21, 21, 21, 23, 23, 23, 23, 23, 23, 23,\n       23, 23, 23, 23, 23, 23, 23, 23, 23, 23, 23, 23, 23, 18, 18, 18, 18,\n       18, 18, 18, 18, 18, 18, 18, 18, 18, 18, 18, 18, 18, 18, 18, 18, 11,\n       11, 11, 11, 11, 11, 11, 11, 11, 11, 11, 11, 11, 11, 11, 11, 11, 11,\n       11, 11,  5,  5,  5,  5,  5,  5,  5,  5,  5,  5,  5,  5,  5,  5,  5,\n        5,  5,  5,  5,  5,  1,  1,  1,  1,  1,  1,  1,  1,  1,  1,  1,  1,\n        1,  1,  1,  1,  1,  1,  1,  1, 13, 13, 13, 13, 13, 13, 13, 13, 13,\n       13, 13, 13, 13, 13, 13, 13, 13, 13, 13, 13, 24, 24, 24, 24, 24, 24,\n       24, 24, 24, 24, 24, 24, 24, 24, 24, 24, 24, 24, 24, 24, 17, 17, 17,\n       17, 17, 17, 17, 17, 17, 17, 17, 17, 17, 17, 17, 17, 17, 17, 17, 17,\n       10, 10, 10, 10, 10, 10, 10, 10, 10, 10, 10, 10, 10, 10, 10, 10, 10,\n       10, 10, 10, 14, 14, 14, 14, 14, 14, 14, 14, 14, 14, 14, 14, 14, 14,\n       14, 14, 14, 14, 14, 14, 15, 15, 15, 15, 15, 15, 15, 15, 15, 15, 15,\n       15, 15, 15, 15, 15, 15, 15, 15, 15, 20, 20, 20, 20, 20, 20, 20, 20,\n       20, 20, 20, 20, 20, 20, 20, 20, 20, 20, 20, 20, 16, 16, 16, 16, 16,\n       16, 16, 16, 16, 16, 16, 16, 16, 16, 16, 16, 16, 16, 16, 16, 25, 25,\n       25, 25, 25, 25, 25, 25, 25, 25, 25, 25, 25, 25, 25, 25, 25, 25, 25,\n       25,  2,  2,  2,  2,  2,  2,  2,  2,  2,  2,  2,  2,  2,  2,  2,  2,\n        2,  2,  2,  2,  4,  4,  4,  4,  4,  4,  4,  4,  4,  4,  4,  4,  4,\n        4,  4,  4,  4,  4,  4,  4,  3,  3,  3,  3,  3,  3,  3,  3,  3,  3,\n        3,  3,  3,  3,  3,  3,  3,  3,  3,  3])"
     },
     "execution_count": 22,
     "metadata": {},
     "output_type": "execute_result"
    }
   ],
   "source": [
    "labels"
   ]
  },
  {
   "cell_type": "code",
   "execution_count": 23,
   "metadata": {
    "scrolled": true
   },
   "outputs": [
    {
     "data": {
      "text/plain": "array([[[157, 157, 157],\n        [157, 157, 157],\n        [157, 157, 157],\n        ...,\n        [157, 157, 159],\n        [157, 157, 159],\n        [157, 157, 159]],\n\n       [[157, 157, 157],\n        [157, 157, 157],\n        [157, 157, 157],\n        ...,\n        [157, 157, 159],\n        [157, 157, 159],\n        [157, 157, 159]],\n\n       [[157, 157, 157],\n        [157, 157, 157],\n        [157, 157, 157],\n        ...,\n        [157, 157, 159],\n        [157, 157, 159],\n        [157, 157, 159]],\n\n       ...,\n\n       [[157, 157, 159],\n        [157, 157, 159],\n        [157, 157, 159],\n        ...,\n        [158, 158, 160],\n        [158, 158, 160],\n        [158, 158, 160]],\n\n       [[157, 157, 159],\n        [157, 157, 159],\n        [157, 157, 159],\n        ...,\n        [158, 158, 160],\n        [158, 158, 160],\n        [158, 158, 160]],\n\n       [[157, 157, 159],\n        [157, 157, 159],\n        [157, 157, 159],\n        ...,\n        [158, 158, 160],\n        [158, 158, 160],\n        [158, 158, 160]]], dtype=uint8)"
     },
     "execution_count": 23,
     "metadata": {},
     "output_type": "execute_result"
    }
   ],
   "source": [
    "train_images[0]"
   ]
  },
  {
   "cell_type": "code",
   "execution_count": 24,
   "metadata": {},
   "outputs": [],
   "source": [
    "from sklearn.model_selection import train_test_split\n",
    "x_train, x_test, y_train, y_test = train_test_split(train_images, labels, test_size=0.1, random_state=100)"
   ]
  },
  {
   "cell_type": "code",
   "execution_count": 25,
   "metadata": {
    "scrolled": true
   },
   "outputs": [
    {
     "data": {
      "text/plain": "((468, 224, 224, 3), (468,), (52, 224, 224, 3), (52,))"
     },
     "execution_count": 25,
     "metadata": {},
     "output_type": "execute_result"
    }
   ],
   "source": [
    "x_train.shape, y_train.shape, x_test.shape, y_test.shape"
   ]
  },
  {
   "cell_type": "code",
   "execution_count": 26,
   "metadata": {},
   "outputs": [
    {
     "name": "stderr",
     "output_type": "stream",
     "text": [
      "2021-09-24 16:11:05.622086: W tensorflow/stream_executor/platform/default/dso_loader.cc:64] Could not load dynamic library 'libcuda.so.1'; dlerror: libcuda.so.1: cannot open shared object file: No such file or directory\n",
      "2021-09-24 16:11:05.622128: W tensorflow/stream_executor/cuda/cuda_driver.cc:326] failed call to cuInit: UNKNOWN ERROR (303)\n",
      "2021-09-24 16:11:05.622155: I tensorflow/stream_executor/cuda/cuda_diagnostics.cc:156] kernel driver does not appear to be running on this host (nikmachine): /proc/driver/nvidia/version does not exist\n",
      "2021-09-24 16:11:05.651431: I tensorflow/core/platform/cpu_feature_guard.cc:142] This TensorFlow binary is optimized with oneAPI Deep Neural Network Library (oneDNN) to use the following CPU instructions in performance-critical operations:  AVX2 FMA\n",
      "To enable them in other operations, rebuild TensorFlow with the appropriate compiler flags.\n"
     ]
    }
   ],
   "source": [
    "data_augmentation = keras.Sequential([\n",
    "    layers.experimental.preprocessing.RandomZoom(0.9),\n",
    "    layers.experimental.preprocessing.RandomContrast(0.1),\n",
    "])"
   ]
  },
  {
   "cell_type": "code",
   "execution_count": 27,
   "metadata": {
    "scrolled": true
   },
   "outputs": [
    {
     "data": {
      "text/plain": "<matplotlib.image.AxesImage at 0x7f5f766db9d0>"
     },
     "execution_count": 27,
     "metadata": {},
     "output_type": "execute_result"
    },
    {
     "data": {
      "image/png": "[encoded data removed]",
      "text/plain": "<Figure size 432x288 with 1 Axes>"
     },
     "metadata": {
      "needs_background": "light",
      "transient": {}
     },
     "output_type": "display_data"
    }
   ],
   "source": [
    "plt.axis(\"off\")\n",
    "plt.imshow(train_images[0])"
   ]
  },
  {
   "cell_type": "code",
   "execution_count": 28,
   "metadata": {
    "scrolled": true
   },
   "outputs": [
    {
     "data": {
      "text/plain": "<matplotlib.image.AxesImage at 0x7f5f702cfa90>"
     },
     "execution_count": 28,
     "metadata": {},
     "output_type": "execute_result"
    },
    {
     "data": {
      "image/png": "[encoded data removed]",
      "text/plain": "<Figure size 432x288 with 1 Axes>"
     },
     "metadata": {
      "needs_background": "light",
      "transient": {}
     },
     "output_type": "display_data"
    }
   ],
   "source": [
    "plt.axis(\"off\")\n",
    "plt.imshow(data_augmentation(train_images)[0].numpy().astype(\"uint8\"))"
   ]
  },
  {
   "cell_type": "code",
   "execution_count": 29,
   "metadata": {},
   "outputs": [],
   "source": [
    "x_train_scaled = x_train/255\n",
    "x_test_scaled = x_test/255"
   ]
  },
  {
   "cell_type": "code",
   "execution_count": 30,
   "metadata": {
    "scrolled": true
   },
   "outputs": [
    {
     "data": {
      "text/plain": "<matplotlib.image.AxesImage at 0x7f5f7024de80>"
     },
     "execution_count": 30,
     "metadata": {},
     "output_type": "execute_result"
    },
    {
     "data": {
      "image/png": "[encoded data removed]",
      "text/plain": "<Figure size 432x288 with 1 Axes>"
     },
     "metadata": {
      "needs_background": "light",
      "transient": {}
     },
     "output_type": "display_data"
    }
   ],
   "source": [
    "plt.axis(\"off\")\n",
    "plt.imshow(x_train_scaled[0])"
   ]
  },
  {
   "cell_type": "code",
   "execution_count": 31,
   "metadata": {},
   "outputs": [
    {
     "name": "stderr",
     "output_type": "stream",
     "text": [
      "2021-09-24 16:11:30.338695: W tensorflow/core/framework/cpu_allocator_impl.cc:80] Allocation of 563576832 exceeds 10% of free system memory.\n"
     ]
    },
    {
     "data": {
      "text/plain": "<matplotlib.image.AxesImage at 0x7f5f7029cee0>"
     },
     "execution_count": 31,
     "metadata": {},
     "output_type": "execute_result"
    },
    {
     "data": {
      "image/png": "[encoded data removed]",
      "text/plain": "<Figure size 432x288 with 1 Axes>"
     },
     "metadata": {
      "needs_background": "light",
      "transient": {}
     },
     "output_type": "display_data"
    }
   ],
   "source": [
    "plt.axis(\"off\")\n",
    "plt.imshow(data_augmentation(x_train_scaled)[0].numpy())"
   ]
  },
  {
   "cell_type": "code",
   "execution_count": 32,
   "metadata": {},
   "outputs": [
    {
     "data": {
      "text/plain": "(468, 224, 224, 3)"
     },
     "execution_count": 32,
     "metadata": {},
     "output_type": "execute_result"
    }
   ],
   "source": [
    "x_train_scaled.shape"
   ]
  },
  {
   "cell_type": "code",
   "execution_count": 33,
   "metadata": {},
   "outputs": [],
   "source": [
    "feature_extractor = \"https://tfhub.dev/google/tf2-preview/mobilenet_v2/feature_vector/4\"\n",
    "pretrained_model_without_top_layer = hub.KerasLayer(\n",
    "feature_extractor, input_shape = (224,224,3), trainable = False)"
   ]
  },
  {
   "cell_type": "code",
   "execution_count": 34,
   "metadata": {},
   "outputs": [],
   "source": [
    "model = tf.keras.Sequential([\n",
    "    data_augmentation,\n",
    "    pretrained_model_without_top_layer,\n",
    "    tf.keras.layers.Dense(128,activation = \"relu\"),\n",
    "    tf.keras.layers.Dense(26, activation = \"sigmoid\")\n",
    "])"
   ]
  },
  {
   "cell_type": "code",
   "execution_count": 35,
   "metadata": {},
   "outputs": [
    {
     "data": {
      "text/plain": "array([[[0.59215686, 0.58431373, 0.58823529],\n        [0.59215686, 0.58431373, 0.58823529],\n        [0.59215686, 0.58431373, 0.58823529],\n        ...,\n        [0.59215686, 0.58823529, 0.60784314],\n        [0.58823529, 0.58431373, 0.60392157],\n        [0.58823529, 0.58431373, 0.60392157]],\n\n       [[0.59215686, 0.58431373, 0.58823529],\n        [0.59215686, 0.58431373, 0.58823529],\n        [0.59215686, 0.58431373, 0.58823529],\n        ...,\n        [0.59215686, 0.58823529, 0.60784314],\n        [0.59215686, 0.58431373, 0.60784314],\n        [0.59215686, 0.58431373, 0.60392157]],\n\n       [[0.59215686, 0.58431373, 0.58823529],\n        [0.59215686, 0.58431373, 0.58823529],\n        [0.59215686, 0.58431373, 0.58823529],\n        ...,\n        [0.59215686, 0.58823529, 0.60392157],\n        [0.59215686, 0.58823529, 0.60392157],\n        [0.59215686, 0.58823529, 0.60392157]],\n\n       ...,\n\n       [[0.57647059, 0.56862745, 0.57254902],\n        [0.57647059, 0.56862745, 0.57254902],\n        [0.58039216, 0.57254902, 0.57647059],\n        ...,\n        [0.58039216, 0.58039216, 0.58039216],\n        [0.58039216, 0.58039216, 0.58039216],\n        [0.58431373, 0.58431373, 0.58431373]],\n\n       [[0.57647059, 0.56862745, 0.57254902],\n        [0.57647059, 0.56862745, 0.57254902],\n        [0.58039216, 0.57254902, 0.57647059],\n        ...,\n        [0.58039216, 0.58039216, 0.58039216],\n        [0.58039216, 0.58039216, 0.58039216],\n        [0.58039216, 0.58039216, 0.58039216]],\n\n       [[0.57647059, 0.56862745, 0.57254902],\n        [0.57647059, 0.56862745, 0.57254902],\n        [0.58039216, 0.57254902, 0.57647059],\n        ...,\n        [0.58039216, 0.58039216, 0.58039216],\n        [0.58039216, 0.58039216, 0.58039216],\n        [0.58039216, 0.58039216, 0.58039216]]])"
     },
     "execution_count": 35,
     "metadata": {},
     "output_type": "execute_result"
    }
   ],
   "source": [
    "x_test_scaled[0]"
   ]
  },
  {
   "cell_type": "code",
   "execution_count": 36,
   "metadata": {},
   "outputs": [],
   "source": [
    "model.compile(\n",
    "    optimizer=\"adam\",\n",
    "    loss = tf.keras.losses.SparseCategoricalCrossentropy(from_logits=True),\n",
    "    metrics=[\"acc\"]\n",
    ")"
   ]
  },
  {
   "cell_type": "code",
   "execution_count": 37,
   "metadata": {},
   "outputs": [
    {
     "name": "stderr",
     "output_type": "stream",
     "text": [
      "2021-09-24 16:13:09.706762: I tensorflow/compiler/mlir/mlir_graph_optimization_pass.cc:176] None of the MLIR Optimization Passes are enabled (registered 2)\n",
      "2021-09-24 16:13:09.771188: I tensorflow/core/platform/profile_utils/cpu_utils.cc:114] CPU Frequency: 2299965000 Hz\n"
     ]
    },
    {
     "name": "stdout",
     "output_type": "stream",
     "text": [
      "Epoch 1/50\n",
      "15/15 - 17s - loss: 3.3176 - acc: 0.0791 - val_loss: 3.1762 - val_acc: 0.0385\n",
      "Epoch 2/50\n",
      "15/15 - 10s - loss: 2.8383 - acc: 0.1880 - val_loss: 2.7986 - val_acc: 0.1731\n",
      "Epoch 3/50\n",
      "15/15 - 10s - loss: 2.5008 - acc: 0.3077 - val_loss: 2.4876 - val_acc: 0.2885\n",
      "Epoch 4/50\n",
      "15/15 - 9s - loss: 2.1840 - acc: 0.3547 - val_loss: 2.2169 - val_acc: 0.3462\n",
      "Epoch 5/50\n",
      "15/15 - 9s - loss: 1.9471 - acc: 0.4530 - val_loss: 2.1112 - val_acc: 0.3269\n",
      "Epoch 6/50\n",
      "15/15 - 10s - loss: 1.8131 - acc: 0.4765 - val_loss: 2.0223 - val_acc: 0.3846\n",
      "Epoch 7/50\n",
      "15/15 - 9s - loss: 1.5604 - acc: 0.5748 - val_loss: 1.9988 - val_acc: 0.2885\n",
      "Epoch 8/50\n",
      "15/15 - 9s - loss: 1.5068 - acc: 0.5534 - val_loss: 1.7258 - val_acc: 0.4038\n",
      "Epoch 9/50\n",
      "15/15 - 9s - loss: 1.4005 - acc: 0.6261 - val_loss: 1.7652 - val_acc: 0.4231\n",
      "Epoch 10/50\n",
      "15/15 - 8s - loss: 1.3552 - acc: 0.6239 - val_loss: 1.6392 - val_acc: 0.4808\n",
      "Epoch 11/50\n",
      "15/15 - 9s - loss: 1.2168 - acc: 0.6624 - val_loss: 1.6142 - val_acc: 0.4808\n",
      "Epoch 12/50\n",
      "15/15 - 9s - loss: 1.1444 - acc: 0.6774 - val_loss: 1.5516 - val_acc: 0.5000\n",
      "Epoch 13/50\n",
      "15/15 - 9s - loss: 1.1318 - acc: 0.6966 - val_loss: 1.5966 - val_acc: 0.5385\n",
      "Epoch 14/50\n",
      "15/15 - 8s - loss: 1.0241 - acc: 0.7415 - val_loss: 1.4926 - val_acc: 0.4808\n",
      "Epoch 15/50\n",
      "15/15 - 9s - loss: 1.0290 - acc: 0.7393 - val_loss: 1.6514 - val_acc: 0.5000\n",
      "Epoch 16/50\n",
      "15/15 - 8s - loss: 0.9935 - acc: 0.7073 - val_loss: 1.6245 - val_acc: 0.4808\n",
      "Epoch 17/50\n",
      "15/15 - 7s - loss: 0.9011 - acc: 0.7607 - val_loss: 1.5345 - val_acc: 0.4808\n",
      "Epoch 18/50\n",
      "15/15 - 7s - loss: 0.9234 - acc: 0.7137 - val_loss: 1.5274 - val_acc: 0.5000\n",
      "Epoch 19/50\n",
      "15/15 - 7s - loss: 0.9178 - acc: 0.7714 - val_loss: 1.5188 - val_acc: 0.5000\n",
      "Epoch 20/50\n",
      "15/15 - 7s - loss: 0.8169 - acc: 0.7885 - val_loss: 1.4935 - val_acc: 0.5192\n",
      "Epoch 21/50\n",
      "15/15 - 8s - loss: 0.7660 - acc: 0.8120 - val_loss: 1.5721 - val_acc: 0.5385\n",
      "Epoch 22/50\n",
      "15/15 - 7s - loss: 0.8390 - acc: 0.7885 - val_loss: 1.4314 - val_acc: 0.4423\n",
      "Epoch 23/50\n",
      "15/15 - 7s - loss: 0.7427 - acc: 0.7906 - val_loss: 1.5133 - val_acc: 0.4808\n",
      "Epoch 24/50\n",
      "15/15 - 7s - loss: 0.7916 - acc: 0.7799 - val_loss: 1.5662 - val_acc: 0.4615\n",
      "Epoch 25/50\n",
      "15/15 - 7s - loss: 0.8017 - acc: 0.7585 - val_loss: 1.5286 - val_acc: 0.5192\n",
      "Epoch 26/50\n",
      "15/15 - 7s - loss: 0.6772 - acc: 0.8312 - val_loss: 1.6000 - val_acc: 0.4038\n",
      "Epoch 27/50\n",
      "15/15 - 7s - loss: 0.8350 - acc: 0.7714 - val_loss: 1.4780 - val_acc: 0.4808\n",
      "Epoch 28/50\n",
      "15/15 - 7s - loss: 0.6205 - acc: 0.8291 - val_loss: 1.4447 - val_acc: 0.4808\n",
      "Epoch 29/50\n",
      "15/15 - 7s - loss: 0.7348 - acc: 0.8120 - val_loss: 1.5529 - val_acc: 0.4423\n",
      "Epoch 30/50\n",
      "15/15 - 7s - loss: 0.5714 - acc: 0.8632 - val_loss: 1.5163 - val_acc: 0.4808\n",
      "Epoch 31/50\n",
      "15/15 - 7s - loss: 0.6425 - acc: 0.8312 - val_loss: 1.4938 - val_acc: 0.5000\n",
      "Epoch 32/50\n",
      "15/15 - 7s - loss: 0.5098 - acc: 0.9017 - val_loss: 1.4685 - val_acc: 0.5192\n",
      "Epoch 33/50\n",
      "15/15 - 7s - loss: 0.5508 - acc: 0.8611 - val_loss: 1.4252 - val_acc: 0.5000\n",
      "Epoch 34/50\n",
      "15/15 - 8s - loss: 0.5968 - acc: 0.8440 - val_loss: 1.5276 - val_acc: 0.4615\n",
      "Epoch 35/50\n",
      "15/15 - 7s - loss: 0.5559 - acc: 0.8440 - val_loss: 1.5227 - val_acc: 0.4615\n",
      "Epoch 36/50\n",
      "15/15 - 7s - loss: 0.5103 - acc: 0.8825 - val_loss: 1.4820 - val_acc: 0.4615\n",
      "Epoch 37/50\n",
      "15/15 - 7s - loss: 0.5193 - acc: 0.8632 - val_loss: 1.5273 - val_acc: 0.5192\n",
      "Epoch 38/50\n",
      "15/15 - 7s - loss: 0.4846 - acc: 0.8782 - val_loss: 1.4949 - val_acc: 0.4808\n",
      "Epoch 39/50\n",
      "15/15 - 7s - loss: 0.6107 - acc: 0.8675 - val_loss: 1.4170 - val_acc: 0.5577\n",
      "Epoch 40/50\n",
      "15/15 - 7s - loss: 0.5505 - acc: 0.8547 - val_loss: 1.4578 - val_acc: 0.5577\n",
      "Epoch 41/50\n",
      "15/15 - 7s - loss: 0.5499 - acc: 0.8483 - val_loss: 1.4367 - val_acc: 0.5000\n",
      "Epoch 42/50\n",
      "15/15 - 8s - loss: 0.4139 - acc: 0.9145 - val_loss: 1.5406 - val_acc: 0.5385\n",
      "Epoch 43/50\n",
      "15/15 - 7s - loss: 0.4451 - acc: 0.8974 - val_loss: 1.5264 - val_acc: 0.4808\n",
      "Epoch 44/50\n",
      "15/15 - 7s - loss: 0.4258 - acc: 0.8846 - val_loss: 1.6197 - val_acc: 0.5385\n",
      "Epoch 45/50\n",
      "15/15 - 7s - loss: 0.4860 - acc: 0.8568 - val_loss: 1.5154 - val_acc: 0.4423\n",
      "Epoch 46/50\n",
      "15/15 - 7s - loss: 0.4368 - acc: 0.8846 - val_loss: 1.5450 - val_acc: 0.5192\n",
      "Epoch 47/50\n",
      "15/15 - 8s - loss: 0.4228 - acc: 0.8889 - val_loss: 1.5574 - val_acc: 0.4231\n",
      "Epoch 48/50\n",
      "15/15 - 7s - loss: 0.3716 - acc: 0.9231 - val_loss: 1.5615 - val_acc: 0.4808\n",
      "Epoch 49/50\n",
      "15/15 - 7s - loss: 0.3790 - acc: 0.9060 - val_loss: 1.5819 - val_acc: 0.4615\n",
      "Epoch 50/50\n",
      "15/15 - 8s - loss: 0.3241 - acc: 0.9338 - val_loss: 1.5404 - val_acc: 0.4615\n"
     ]
    },
    {
     "data": {
      "text/plain": "<tensorflow.python.keras.callbacks.History at 0x7f5f68144100>"
     },
     "execution_count": 37,
     "metadata": {},
     "output_type": "execute_result"
    }
   ],
   "source": [
    "model.fit(x_train_scaled,y_train, validation_data=(x_test_scaled, y_test), epochs = 50, verbose=2)"
   ]
  },
  {
   "cell_type": "code",
   "execution_count": 38,
   "metadata": {},
   "outputs": [
    {
     "data": {
      "text/plain": "(52, 224, 224, 3)"
     },
     "execution_count": 38,
     "metadata": {},
     "output_type": "execute_result"
    }
   ],
   "source": [
    "x_test.shape"
   ]
  },
  {
   "cell_type": "code",
   "execution_count": 55,
   "metadata": {},
   "outputs": [
    {
     "data": {
      "text/plain": "(224, 224, 3)"
     },
     "execution_count": 55,
     "metadata": {},
     "output_type": "execute_result"
    }
   ],
   "source": [
    "path = \"a.jpeg\"\n",
    "img = cv2.imread(path, cv2.IMREAD_COLOR)\n",
    "img1 = cv2.resize(img, (224, 224))\n",
    "img1 = cv2.cvtColor(img1, cv2.COLOR_RGB2BGR)\n",
    "img1.shape"
   ]
  },
  {
   "cell_type": "code",
   "execution_count": 56,
   "metadata": {},
   "outputs": [],
   "source": [
    "img1 = np.array(img1)\n",
    "img1 = img1/255.0"
   ]
  },
  {
   "cell_type": "code",
   "execution_count": 57,
   "metadata": {},
   "outputs": [
    {
     "data": {
      "text/plain": "<matplotlib.image.AxesImage at 0x7f5ee6fa07f0>"
     },
     "execution_count": 57,
     "metadata": {},
     "output_type": "execute_result"
    },
    {
     "data": {
      "image/png": "[encoded data removed]",
      "text/plain": "<Figure size 432x288 with 1 Axes>"
     },
     "metadata": {
      "needs_background": "light",
      "transient": {}
     },
     "output_type": "display_data"
    }
   ],
   "source": [
    "plt.imshow(img1)"
   ]
  },
  {
   "cell_type": "code",
   "execution_count": 58,
   "metadata": {},
   "outputs": [],
   "source": [
    "img = img1[np.newaxis,...]"
   ]
  },
  {
   "cell_type": "code",
   "execution_count": 59,
   "metadata": {},
   "outputs": [
    {
     "data": {
      "text/plain": "(1, 224, 224, 3)"
     },
     "execution_count": 59,
     "metadata": {},
     "output_type": "execute_result"
    }
   ],
   "source": [
    "img.shape"
   ]
  },
  {
   "cell_type": "code",
   "execution_count": 60,
   "metadata": {
    "scrolled": false
   },
   "outputs": [],
   "source": [
    "y = model.predict(img)"
   ]
  },
  {
   "cell_type": "code",
   "execution_count": 61,
   "metadata": {},
   "outputs": [],
   "source": [
    "y = np.argmax(y)"
   ]
  },
  {
   "cell_type": "code",
   "execution_count": 62,
   "metadata": {},
   "outputs": [
    {
     "data": {
      "text/plain": "array(['Automatic-Answer-Grader-master//dataset/O'], dtype='<U41')"
     },
     "execution_count": 62,
     "metadata": {},
     "output_type": "execute_result"
    }
   ],
   "source": [
    "prediction = le.inverse_transform([y])\n",
    "prediction"
   ]
  },
  {
   "cell_type": "code",
   "execution_count": null,
   "metadata": {},
   "outputs": [],
   "source": [
    "# path = \"C:\\\\Users\\\\Satyam Kumar\\\\Downloads\\\\c2.jpg\"\n",
    "# img = cv2.imread(path, cv2.IMREAD_COLOR)\n",
    "# img.shape"
   ]
  },
  {
   "cell_type": "code",
   "execution_count": null,
   "metadata": {},
   "outputs": [],
   "source": [
    "# path = \"C:\\\\Users\\\\Satyam Kumar\\\\Downloads\\\\pp.jpg\"\n",
    "# img = cv2.imread(path, cv2.IMREAD_COLOR)\n",
    "# img1 = cv2.resize(img, (224, 224))\n",
    "# img1 = cv2.cvtColor(img1, cv2.COLOR_RGB2BGR)\n",
    "# img1.shape"
   ]
  },
  {
   "cell_type": "code",
   "execution_count": null,
   "metadata": {},
   "outputs": [],
   "source": [
    "# plt.imshow(img1)"
   ]
  },
  {
   "cell_type": "code",
   "execution_count": null,
   "metadata": {},
   "outputs": [],
   "source": [
    "# img = img1[np.newaxis,...]"
   ]
  },
  {
   "cell_type": "code",
   "execution_count": null,
   "metadata": {},
   "outputs": [],
   "source": [
    "# img.shape"
   ]
  },
  {
   "cell_type": "code",
   "execution_count": null,
   "metadata": {},
   "outputs": [],
   "source": [
    "# y = model.predict(img)"
   ]
  },
  {
   "cell_type": "code",
   "execution_count": null,
   "metadata": {},
   "outputs": [],
   "source": [
    "# y = np.argmax(y)"
   ]
  },
  {
   "cell_type": "code",
   "execution_count": null,
   "metadata": {},
   "outputs": [],
   "source": [
    "# prediction = le.inverse_transform([y])\n",
    "# prediction"
   ]
  },
  {
   "cell_type": "code",
   "execution_count": null,
   "metadata": {},
   "outputs": [],
   "source": []
  }
 ],
 "metadata": {
  "kernelspec": {
   "display_name": "Python 3 (ipykernel)",
   "language": "python",
   "name": "python3"
  },
  "language_info": {
   "codemirror_mode": {
    "name": "ipython",
    "version": 3
   },
   "file_extension": ".py",
   "mimetype": "text/x-python",
   "name": "python",
   "nbconvert_exporter": "python",
   "pygments_lexer": "ipython3",
   "version": "3.8.10"
  }
 },
 "nbformat": 4,
 "nbformat_minor": 5
}