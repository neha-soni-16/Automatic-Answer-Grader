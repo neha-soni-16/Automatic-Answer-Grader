{
 "cells": [
  {
   "cell_type": "code",
   "execution_count": 1,
   "metadata": {},
   "outputs": [],
   "source": [
    "import pandas as pd\n",
    "import numpy as np\n",
    "import cv2\n",
    "import os\n",
    "from pathlib import Path"
   ]
  },
  {
   "cell_type": "code",
   "execution_count": 2,
   "metadata": {},
   "outputs": [],
   "source": [
    "import glob\n",
    "import os\n",
    "import cv2\n",
    "import matplotlib.pyplot as plt\n",
    "from PIL import Image"
   ]
  },
  {
   "cell_type": "code",
   "execution_count": 3,
   "metadata": {},
   "outputs": [
    {
     "name": "stderr",
     "output_type": "stream",
     "text": [
      "2021-09-27 19:32:01.366727: W tensorflow/stream_executor/platform/default/dso_loader.cc:64] Could not load dynamic library 'libcudart.so.11.0'; dlerror: libcudart.so.11.0: cannot open shared object file: No such file or directory\n",
      "2021-09-27 19:32:01.366860: I tensorflow/stream_executor/cuda/cudart_stub.cc:29] Ignore above cudart dlerror if you do not have a GPU set up on your machine.\n"
     ]
    }
   ],
   "source": [
    "import tensorflow as tf\n",
    "from tensorflow import keras\n",
    "from tensorflow.keras import layers\n",
    "from tensorflow.keras.models import Sequential\n",
    "import tensorflow_hub as hub"
   ]
  },
  {
   "cell_type": "code",
   "execution_count": 7,
   "metadata": {},
   "outputs": [
    {
     "data": {
      "text/plain": "array([[[196, 203, 206],\n        [193, 200, 203],\n        [192, 199, 202],\n        ...,\n        [189, 196, 199],\n        [191, 198, 201],\n        [192, 199, 202]],\n\n       [[194, 201, 204],\n        [193, 200, 203],\n        [192, 199, 202],\n        ...,\n        [190, 197, 200],\n        [192, 199, 202],\n        [192, 199, 202]],\n\n       [[193, 200, 203],\n        [194, 201, 204],\n        [193, 200, 203],\n        ...,\n        [192, 199, 202],\n        [193, 200, 203],\n        [193, 200, 203]],\n\n       ...,\n\n       [[192, 197, 198],\n        [190, 195, 196],\n        [193, 198, 199],\n        ...,\n        [187, 192, 195],\n        [187, 192, 195],\n        [187, 192, 195]],\n\n       [[189, 194, 195],\n        [187, 192, 193],\n        [193, 198, 199],\n        ...,\n        [189, 194, 197],\n        [189, 194, 197],\n        [188, 193, 196]],\n\n       [[193, 198, 199],\n        [191, 196, 197],\n        [189, 194, 195],\n        ...,\n        [190, 195, 198],\n        [189, 194, 197],\n        [188, 193, 196]]], dtype=uint8)"
     },
     "execution_count": 7,
     "metadata": {},
     "output_type": "execute_result"
    }
   ],
   "source": [
    "img = cv2.imread(\"dataset/A/a1.jpg\")\n",
    "img"
   ]
  },
  {
   "cell_type": "code",
   "execution_count": 5,
   "metadata": {},
   "outputs": [],
   "source": [
    "img"
   ]
  },
  {
   "cell_type": "code",
   "execution_count": 8,
   "metadata": {},
   "outputs": [
    {
     "name": "stdout",
     "output_type": "stream",
     "text": [
      "dataset/J\n",
      "dataset/J\n",
      "dataset/J\n",
      "dataset/J\n",
      "dataset/J\n",
      "dataset/J\n",
      "dataset/J\n",
      "dataset/J\n",
      "dataset/J\n",
      "dataset/J\n"
     ]
    }
   ],
   "source": [
    "i=4\n",
    "for path in glob.glob(\"dataset//*\"):\n",
    "    for img_path in glob.glob(os.path.join(path, \"*.jpg\")):\n",
    "        if(i>=0):\n",
    "            print(path)\n",
    "            pt = path.split(\"\\\\\")[-1]\n",
    "            print(pt)\n",
    "            i = i-1"
   ]
  },
  {
   "cell_type": "code",
   "execution_count": null,
   "metadata": {},
   "outputs": [],
   "source": []
  },
  {
   "cell_type": "code",
   "execution_count": 9,
   "metadata": {},
   "outputs": [
    {
     "name": "stdout",
     "output_type": "stream",
     "text": [
      "dataset/J/j17.jpg\n",
      "dataset/J/j9.jpg\n",
      "dataset/J/j2.jpg\n",
      "dataset/J/j18.jpg\n",
      "dataset/J/j16.jpg\n",
      "dataset/J/j20.jpg\n",
      "dataset/J/j3.jpg\n",
      "dataset/J/j19.jpg\n",
      "dataset/J/j15.jpg\n",
      "dataset/J/j1.jpg\n",
      "dataset/J/j7.jpg\n",
      "dataset/J/j11.jpg\n",
      "dataset/J/j12.jpg\n",
      "dataset/J/j4.jpg\n",
      "dataset/J/j10.jpg\n",
      "dataset/J/j6.jpg\n",
      "dataset/J/j8.jpg\n",
      "dataset/J/j5.jpg\n",
      "dataset/J/j13.jpg\n",
      "dataset/J/j14.jpg\n",
      "dataset/G/g13.jpg\n",
      "dataset/G/g16.jpg\n",
      "dataset/G/g1.jpg\n",
      "dataset/G/g12.jpg\n",
      "dataset/G/g6.jpg\n",
      "dataset/G/g17.jpg\n",
      "dataset/G/g20.jpg\n",
      "dataset/G/g9.jpg\n",
      "dataset/G/g10.jpg\n",
      "dataset/G/g2.jpg\n",
      "dataset/G/g11.jpg\n",
      "dataset/G/g15.jpg\n",
      "dataset/G/g19.jpg\n",
      "dataset/G/g5.jpg\n",
      "dataset/G/g7.jpg\n",
      "dataset/G/g8.jpg\n",
      "dataset/G/g18.jpg\n",
      "dataset/G/g4.jpg\n",
      "dataset/G/g3.jpg\n",
      "dataset/G/g14.jpg\n",
      "dataset/M/m20.jpg\n",
      "dataset/M/m10.jpg\n",
      "dataset/M/m2.jpg\n",
      "dataset/M/m19.jpg\n",
      "dataset/M/m12.jpg\n",
      "dataset/M/m5.jpg\n",
      "dataset/M/m1.jpg\n",
      "dataset/M/m15.jpg\n",
      "dataset/M/m6.jpg\n",
      "dataset/M/m4.jpg\n",
      "dataset/M/m9.jpg\n",
      "dataset/M/m18.jpg\n",
      "dataset/M/m17.jpg\n",
      "dataset/M/m3.jpg\n",
      "dataset/M/m8.jpg\n",
      "dataset/M/m13.jpg\n",
      "dataset/M/m14.jpg\n",
      "dataset/M/m7.jpg\n",
      "dataset/M/m11.jpg\n",
      "dataset/M/m16.jpg\n",
      "dataset/T/t12.jpg\n",
      "dataset/T/t16.jpg\n",
      "dataset/T/t9.jpg\n",
      "dataset/T/t3.jpg\n",
      "dataset/T/t4.jpg\n",
      "dataset/T/t19.jpg\n",
      "dataset/T/t7.jpg\n",
      "dataset/T/t17.jpg\n",
      "dataset/T/t8.jpg\n",
      "dataset/T/t14.jpg\n",
      "dataset/T/t2.jpg\n",
      "dataset/T/t6.jpg\n",
      "dataset/T/t11.jpg\n",
      "dataset/T/t18.jpg\n",
      "dataset/T/t10.jpg\n",
      "dataset/T/t1.jpg\n",
      "dataset/T/t5.jpg\n",
      "dataset/T/t13.jpg\n",
      "dataset/T/t15.jpg\n",
      "dataset/T/t20.jpg\n",
      "dataset/H/h9.jpg\n",
      "dataset/H/h6.jpg\n",
      "dataset/H/h16.jpg\n",
      "dataset/H/h4.jpg\n",
      "dataset/H/h15.jpg\n",
      "dataset/H/h17.jpg\n",
      "dataset/H/h18.jpg\n",
      "dataset/H/h10.jpg\n",
      "dataset/H/h1.jpg\n",
      "dataset/H/h14.jpg\n",
      "dataset/H/h3.jpg\n",
      "dataset/H/h8.jpg\n",
      "dataset/H/h7.jpg\n",
      "dataset/H/h2.jpg\n",
      "dataset/H/h13.jpg\n",
      "dataset/H/h20.jpg\n",
      "dataset/H/h5.jpg\n",
      "dataset/H/h12.jpg\n",
      "dataset/H/h11.jpg\n",
      "dataset/H/h19.jpg\n",
      "dataset/W/w11.jpg\n",
      "dataset/W/w8.jpg\n",
      "dataset/W/w5.jpg\n",
      "dataset/W/w3.jpg\n",
      "dataset/W/w12.jpg\n",
      "dataset/W/w14.jpg\n",
      "dataset/W/w19.jpg\n",
      "dataset/W/w4.jpg\n",
      "dataset/W/w1.jpg\n",
      "dataset/W/w16.jpg\n",
      "dataset/W/w7.jpg\n",
      "dataset/W/w20.jpg\n",
      "dataset/W/w2.jpg\n",
      "dataset/W/w17.jpg\n",
      "dataset/W/w10.jpg\n",
      "dataset/W/w18.jpg\n",
      "dataset/W/w15.jpg\n",
      "dataset/W/w6.jpg\n",
      "dataset/W/w13.jpg\n",
      "dataset/W/w9.jpg\n",
      "dataset/I/i12.jpg\n",
      "dataset/I/i17.jpg\n",
      "dataset/I/i11.jpg\n",
      "dataset/I/i2.jpg\n",
      "dataset/I/i13.jpg\n",
      "dataset/I/i14.jpg\n",
      "dataset/I/i16.jpg\n",
      "dataset/I/i19.jpg\n",
      "dataset/I/i9.jpg\n",
      "dataset/I/i1.jpg\n",
      "dataset/I/i7.jpg\n",
      "dataset/I/i20.jpg\n",
      "dataset/I/i15.jpg\n",
      "dataset/I/i10.jpg\n",
      "dataset/I/i18.jpg\n",
      "dataset/I/i6.jpg\n",
      "dataset/I/i5.jpg\n",
      "dataset/I/i8.jpg\n",
      "dataset/I/i3.jpg\n",
      "dataset/I/i4.jpg\n",
      "dataset/A/a16.jpg\n",
      "dataset/A/a18.jpg\n",
      "dataset/A/a14.jpg\n",
      "dataset/A/a9.jpg\n",
      "dataset/A/a11.jpg\n",
      "dataset/A/a10.jpg\n",
      "dataset/A/a19.jpg\n",
      "dataset/A/a15.jpg\n",
      "dataset/A/a2.jpg\n",
      "dataset/A/a17.jpg\n",
      "dataset/A/a3.jpg\n",
      "dataset/A/a6.jpg\n",
      "dataset/A/a7.jpg\n",
      "dataset/A/a5.jpg\n",
      "dataset/A/a8.jpg\n",
      "dataset/A/a20.jpg\n",
      "dataset/A/a12.jpg\n",
      "dataset/A/a4.jpg\n",
      "dataset/A/a13.jpg\n",
      "dataset/A/a1.jpg\n",
      "dataset/V/v5.jpg\n",
      "dataset/V/v2.jpg\n",
      "dataset/V/v8.jpg\n",
      "dataset/V/v7.jpg\n",
      "dataset/V/v14.jpg\n",
      "dataset/V/v9.jpg\n",
      "dataset/V/v12.jpg\n",
      "dataset/V/v16.jpg\n",
      "dataset/V/v17.jpg\n",
      "dataset/V/v11.jpg\n",
      "dataset/V/v15.jpg\n",
      "dataset/V/v6.jpg\n",
      "dataset/V/v18.jpg\n",
      "dataset/V/v19.jpg\n",
      "dataset/V/v13.jpg\n",
      "dataset/V/v4.jpg\n",
      "dataset/V/v10.jpg\n",
      "dataset/V/v1.jpg\n",
      "dataset/V/v3.jpg\n",
      "dataset/V/v20.jpg\n",
      "dataset/X/x3.jpg\n",
      "dataset/X/x6.jpg\n",
      "dataset/X/x4.jpg\n",
      "dataset/X/x12.jpg\n",
      "dataset/X/x2.jpg\n",
      "dataset/X/x1.jpg\n",
      "dataset/X/x17.jpg\n",
      "dataset/X/x20.jpg\n",
      "dataset/X/x14.jpg\n",
      "dataset/X/x10.jpg\n",
      "dataset/X/x5.jpg\n",
      "dataset/X/x15.jpg\n",
      "dataset/X/x11.jpg\n",
      "dataset/X/x7.jpg\n",
      "dataset/X/x16.jpg\n",
      "dataset/X/x19.jpg\n",
      "dataset/X/x8.jpg\n",
      "dataset/X/x9.jpg\n",
      "dataset/X/x18.jpg\n",
      "dataset/X/x13.jpg\n",
      "dataset/S/s12.jpg\n",
      "dataset/S/s1.jpg\n",
      "dataset/S/s5.jpg\n",
      "dataset/S/s7.jpg\n",
      "dataset/S/s15.jpg\n",
      "dataset/S/s18.jpg\n",
      "dataset/S/s16.jpg\n",
      "dataset/S/s17.jpg\n",
      "dataset/S/s11.jpg\n",
      "dataset/S/s4.jpg\n",
      "dataset/S/s6.jpg\n",
      "dataset/S/s19.jpg\n",
      "dataset/S/s20.jpg\n",
      "dataset/S/s3.jpg\n",
      "dataset/S/s14.jpg\n",
      "dataset/S/s13.jpg\n",
      "dataset/S/s9.jpg\n",
      "dataset/S/s8.jpg\n",
      "dataset/S/s2.jpg\n",
      "dataset/S/s10.jpg\n",
      "dataset/L/l13.jpg\n",
      "dataset/L/l18.jpg\n",
      "dataset/L/l2.jpg\n",
      "dataset/L/l5.jpg\n",
      "dataset/L/l15.jpg\n",
      "dataset/L/l6.jpg\n",
      "dataset/L/l3.jpg\n",
      "dataset/L/l16.jpg\n",
      "dataset/L/l19.jpg\n",
      "dataset/L/l4.jpg\n",
      "dataset/L/l11.jpg\n",
      "dataset/L/l8.jpg\n",
      "dataset/L/l10.jpg\n",
      "dataset/L/l12.jpg\n",
      "dataset/L/l14.jpg\n",
      "dataset/L/l9.jpg\n",
      "dataset/L/l1.jpg\n",
      "dataset/L/l17.jpg\n",
      "dataset/L/l20.jpg\n",
      "dataset/L/l7.jpg\n",
      "dataset/F/f17.jpg\n",
      "dataset/F/f1.jpg\n",
      "dataset/F/f3.jpg\n",
      "dataset/F/f2.jpg\n",
      "dataset/F/f19.jpg\n",
      "dataset/F/f12.jpg\n",
      "dataset/F/f14.jpg\n",
      "dataset/F/f11.jpg\n",
      "dataset/F/f15.jpg\n",
      "dataset/F/f5.jpg\n",
      "dataset/F/f13.jpg\n",
      "dataset/F/f16.jpg\n",
      "dataset/F/f20.jpg\n",
      "dataset/F/f18.jpg\n",
      "dataset/F/f4.jpg\n",
      "dataset/F/f7.jpg\n",
      "dataset/F/f9.jpg\n",
      "dataset/F/f8.jpg\n",
      "dataset/F/f6.jpg\n",
      "dataset/F/f10.jpg\n",
      "dataset/B/b9.jpg\n",
      "dataset/B/b16.jpg\n",
      "dataset/B/b6.jpg\n",
      "dataset/B/b3.jpg\n",
      "dataset/B/b11.jpg\n",
      "dataset/B/b15.jpg\n",
      "dataset/B/b12.jpg\n",
      "dataset/B/b19.jpg\n",
      "dataset/B/b18.jpg\n",
      "dataset/B/b20.jpg\n",
      "dataset/B/b5.jpg\n",
      "dataset/B/b7.jpg\n",
      "dataset/B/b1.jpg\n",
      "dataset/B/b2.jpg\n",
      "dataset/B/b13.jpg\n",
      "dataset/B/b10.jpg\n",
      "dataset/B/b17.jpg\n",
      "dataset/B/b8.jpg\n",
      "dataset/B/b14.jpg\n",
      "dataset/B/b4.jpg\n",
      "dataset/N/n16.jpg\n",
      "dataset/N/n8.jpg\n",
      "dataset/N/n11.jpg\n",
      "dataset/N/n19.jpg\n",
      "dataset/N/n13.jpg\n",
      "dataset/N/n7.jpg\n",
      "dataset/N/n17.jpg\n",
      "dataset/N/n14.jpg\n",
      "dataset/N/n10.jpg\n",
      "dataset/N/n20.jpg\n",
      "dataset/N/n4.jpg\n",
      "dataset/N/n9.jpg\n",
      "dataset/N/n5.jpg\n",
      "dataset/N/n12.jpg\n",
      "dataset/N/n6.jpg\n",
      "dataset/N/n1.jpg\n",
      "dataset/N/n18.jpg\n",
      "dataset/N/n3.jpg\n",
      "dataset/N/n15.jpg\n",
      "dataset/N/n2.jpg\n",
      "dataset/Y/y1.jpg\n",
      "dataset/Y/y11.jpg\n",
      "dataset/Y/y13.jpg\n",
      "dataset/Y/y10.jpg\n",
      "dataset/Y/y17.jpg\n",
      "dataset/Y/y5.jpg\n",
      "dataset/Y/y9.jpg\n",
      "dataset/Y/y16.jpg\n",
      "dataset/Y/y19.jpg\n",
      "dataset/Y/y14.jpg\n",
      "dataset/Y/y7.jpg\n",
      "dataset/Y/y15.jpg\n",
      "dataset/Y/y20.jpg\n",
      "dataset/Y/y3.jpg\n",
      "dataset/Y/y2.jpg\n",
      "dataset/Y/y18.jpg\n",
      "dataset/Y/y8.jpg\n",
      "dataset/Y/y12.jpg\n",
      "dataset/Y/y6.jpg\n",
      "dataset/Y/y4.jpg\n",
      "dataset/R/r7.jpg\n",
      "dataset/R/r11.jpg\n",
      "dataset/R/r14.jpg\n",
      "dataset/R/r2.jpg\n",
      "dataset/R/r18.jpg\n",
      "dataset/R/r6.jpg\n",
      "dataset/R/r13.jpg\n",
      "dataset/R/r4.jpg\n",
      "dataset/R/r5.jpg\n",
      "dataset/R/r16.jpg\n",
      "dataset/R/r9.jpg\n",
      "dataset/R/r15.jpg\n",
      "dataset/R/r1.jpg\n",
      "dataset/R/r10.jpg\n",
      "dataset/R/r12.jpg\n",
      "dataset/R/r3.jpg\n",
      "dataset/R/r17.jpg\n",
      "dataset/R/r8.jpg\n",
      "dataset/R/r20.jpg\n",
      "dataset/R/r19.jpg\n",
      "dataset/K/k7.jpg\n",
      "dataset/K/k15.jpg\n",
      "dataset/K/k9.jpg\n",
      "dataset/K/k3.jpg\n",
      "dataset/K/k6.jpg\n",
      "dataset/K/k13.jpg\n",
      "dataset/K/k12.jpg\n",
      "dataset/K/k8.jpg\n",
      "dataset/K/k5.jpg\n",
      "dataset/K/k4.jpg\n",
      "dataset/K/k11.jpg\n",
      "dataset/K/k18.jpg\n",
      "dataset/K/k2.jpg\n",
      "dataset/K/k20.jpg\n",
      "dataset/K/k19.jpg\n",
      "dataset/K/k1.jpg\n",
      "dataset/K/k14.jpg\n",
      "dataset/K/k17.jpg\n",
      "dataset/K/k16.jpg\n",
      "dataset/K/k10.jpg\n",
      "dataset/O/o16.jpg\n",
      "dataset/O/o12.jpg\n",
      "dataset/O/o11.jpg\n",
      "dataset/O/o15.jpg\n",
      "dataset/O/o17.jpg\n",
      "dataset/O/o6.jpg\n",
      "dataset/O/o18.jpg\n",
      "dataset/O/o9.jpg\n",
      "dataset/O/o4.jpg\n",
      "dataset/O/o19.jpg\n",
      "dataset/O/o20.jpg\n",
      "dataset/O/o7.jpg\n",
      "dataset/O/o14.jpg\n",
      "dataset/O/o13.jpg\n",
      "dataset/O/o8.jpg\n",
      "dataset/O/o10.jpg\n",
      "dataset/O/o1.jpg\n",
      "dataset/O/o2.jpg\n",
      "dataset/O/o3.jpg\n",
      "dataset/O/o5.jpg\n",
      "dataset/P/p2.jpg\n",
      "dataset/P/p1.jpg\n",
      "dataset/P/p4.jpg\n",
      "dataset/P/p7.jpg\n",
      "dataset/P/p16.jpg\n",
      "dataset/P/p11.jpg\n",
      "dataset/P/p14.jpg\n",
      "dataset/P/p3.jpg\n",
      "dataset/P/p20.jpg\n",
      "dataset/P/p6.jpg\n",
      "dataset/P/p5.jpg\n",
      "dataset/P/p15.jpg\n",
      "dataset/P/p19.jpg\n",
      "dataset/P/p9.jpg\n",
      "dataset/P/p13.jpg\n",
      "dataset/P/p12.jpg\n",
      "dataset/P/p18.jpg\n",
      "dataset/P/p17.jpg\n",
      "dataset/P/p8.jpg\n",
      "dataset/P/p10.jpg\n",
      "dataset/U/u11.jpg\n",
      "dataset/U/u3.jpg\n",
      "dataset/U/u19.jpg\n",
      "dataset/U/u17.jpg\n",
      "dataset/U/u1.jpg\n",
      "dataset/U/u14.jpg\n",
      "dataset/U/u8.jpg\n",
      "dataset/U/u10.jpg\n",
      "dataset/U/u15.jpg\n",
      "dataset/U/u4.jpg\n",
      "dataset/U/u18.jpg\n",
      "dataset/U/u6.jpg\n",
      "dataset/U/u2.jpg\n",
      "dataset/U/u13.jpg\n",
      "dataset/U/u20.jpg\n",
      "dataset/U/u12.jpg\n",
      "dataset/U/u16.jpg\n",
      "dataset/U/u7.jpg\n",
      "dataset/U/u5.jpg\n",
      "dataset/U/u9.jpg\n",
      "dataset/Q/q4.jpg\n",
      "dataset/Q/q8.jpg\n",
      "dataset/Q/q19.jpg\n",
      "dataset/Q/q5.jpg\n",
      "dataset/Q/q14.jpg\n",
      "dataset/Q/q2.jpg\n",
      "dataset/Q/q17.jpg\n",
      "dataset/Q/q16.jpg\n",
      "dataset/Q/q13.jpg\n",
      "dataset/Q/q11.jpg\n",
      "dataset/Q/q6.jpg\n",
      "dataset/Q/q12.jpg\n",
      "dataset/Q/q20.jpg\n",
      "dataset/Q/q3.jpg\n",
      "dataset/Q/q7.jpg\n",
      "dataset/Q/q15.jpg\n",
      "dataset/Q/q1.jpg\n",
      "dataset/Q/q10.jpg\n",
      "dataset/Q/q9.jpg\n",
      "dataset/Q/q18.jpg\n",
      "dataset/Z/z16.jpg\n",
      "dataset/Z/z2.jpg\n",
      "dataset/Z/z8.jpg\n",
      "dataset/Z/z13.jpg\n",
      "dataset/Z/z17.jpg\n",
      "dataset/Z/z14.jpg\n",
      "dataset/Z/z3.jpg\n",
      "dataset/Z/z5.jpg\n",
      "dataset/Z/z18.jpg\n",
      "dataset/Z/z10.jpg\n",
      "dataset/Z/z7.jpg\n",
      "dataset/Z/z6.jpg\n",
      "dataset/Z/z9.jpg\n",
      "dataset/Z/z20.jpg\n",
      "dataset/Z/z19.jpg\n",
      "dataset/Z/z11.jpg\n",
      "dataset/Z/z4.jpg\n",
      "dataset/Z/z12.jpg\n",
      "dataset/Z/z1.jpg\n",
      "dataset/Z/z15.jpg\n",
      "dataset/C/c3.jpg\n",
      "dataset/C/c9.jpg\n",
      "dataset/C/c8.jpg\n",
      "dataset/C/c4.jpg\n",
      "dataset/C/c1.jpg\n",
      "dataset/C/c14.jpg\n",
      "dataset/C/c5.jpg\n",
      "dataset/C/c16.jpg\n",
      "dataset/C/c12.jpg\n",
      "dataset/C/c13.jpg\n",
      "dataset/C/c10.jpg\n",
      "dataset/C/c6.jpg\n",
      "dataset/C/c17.jpg\n",
      "dataset/C/c11.jpg\n",
      "dataset/C/c2.jpg\n",
      "dataset/C/c15.jpg\n",
      "dataset/C/c7.jpg\n",
      "dataset/C/c20.jpg\n",
      "dataset/C/c18.jpg\n",
      "dataset/C/c19.jpg\n",
      "dataset/E/e8.jpg\n",
      "dataset/E/e7.jpg\n",
      "dataset/E/e5.jpg\n",
      "dataset/E/e11.jpg\n",
      "dataset/E/e3.jpg\n",
      "dataset/E/e10.jpg\n",
      "dataset/E/e16.jpg\n",
      "dataset/E/e9.jpg\n",
      "dataset/E/e2.jpg\n",
      "dataset/E/e19.jpg\n",
      "dataset/E/e20.jpg\n",
      "dataset/E/e15.jpg\n",
      "dataset/E/e13.jpg\n",
      "dataset/E/e17.jpg\n",
      "dataset/E/e6.jpg\n",
      "dataset/E/e18.jpg\n",
      "dataset/E/e4.jpg\n",
      "dataset/E/e1.jpg\n",
      "dataset/E/e14.jpg\n",
      "dataset/E/e12.jpg\n",
      "dataset/D/d16.jpg\n",
      "dataset/D/d20.jpg\n",
      "dataset/D/d17.jpg\n",
      "dataset/D/d4.jpg\n",
      "dataset/D/d3.jpg\n",
      "dataset/D/d1.jpg\n",
      "dataset/D/d14.jpg\n",
      "dataset/D/d19.jpg\n",
      "dataset/D/d18.jpg\n",
      "dataset/D/d10.jpg\n",
      "dataset/D/d9.jpg\n",
      "dataset/D/d7.jpg\n",
      "dataset/D/d13.jpg\n",
      "dataset/D/d15.jpg\n",
      "dataset/D/d12.jpg\n",
      "dataset/D/d6.jpg\n",
      "dataset/D/d2.jpg\n",
      "dataset/D/d8.jpg\n",
      "dataset/D/d11.jpg\n",
      "dataset/D/d5.jpg\n"
     ]
    }
   ],
   "source": [
    "train_images = []\n",
    "train_labels = []\n",
    "\n",
    "for path in glob.glob(\"dataset//*\"):\n",
    "    for img_path in glob.glob(os.path.join(path, \"*.jpg\")):\n",
    "        print(img_path)\n",
    "        img1 = cv2.imread(img_path, cv2.IMREAD_COLOR)\n",
    "        img1 = cv2.resize(img1, (224, 224))\n",
    "        img1 = cv2.cvtColor(img1, cv2.COLOR_RGB2BGR)\n",
    "        train_images.append(img1)\n",
    "        pt = path.split(\"\\\\\")[-1]\n",
    "        train_labels.append(pt)"
   ]
  },
  {
   "cell_type": "code",
   "execution_count": 10,
   "metadata": {},
   "outputs": [
    {
     "data": {
      "text/plain": "<Figure size 720x504 with 0 Axes>"
     },
     "metadata": {
      "transient": {}
     },
     "output_type": "display_data"
    }
   ],
   "source": [
    "i = 4\n",
    "fig = plt.figure(figsize=(10, 7))\n",
    "rows = 2\n",
    "columns = 2\n",
    "for path in glob.glob(\"dataset\\\\*\"):\n",
    "    for img_path in glob.glob(os.path.join(path, \"*.jpg\")):\n",
    "        if (i>0):\n",
    "            img = cv2.imread(img_path)\n",
    "            fig.add_subplot(rows, columns, i)\n",
    "            plt.imshow(img)\n",
    "            p = path.split(\"\\\\\")[-1]\n",
    "            plt.title(p)\n",
    "            i = i-1"
   ]
  },
  {
   "cell_type": "code",
   "execution_count": 11,
   "metadata": {},
   "outputs": [
    {
     "data": {
      "text/plain": "(520, 520)"
     },
     "execution_count": 11,
     "metadata": {},
     "output_type": "execute_result"
    }
   ],
   "source": [
    "len(train_labels), len(train_images)"
   ]
  },
  {
   "cell_type": "code",
   "execution_count": 12,
   "metadata": {},
   "outputs": [],
   "source": [
    "from sklearn.preprocessing import LabelEncoder\n",
    "\n",
    "le = LabelEncoder()\n",
    "label = le.fit_transform(train_labels)"
   ]
  },
  {
   "cell_type": "code",
   "execution_count": 13,
   "metadata": {},
   "outputs": [],
   "source": [
    "train_images = np.array(train_images).astype(\"uint8\")\n",
    "labels = np.array(label)"
   ]
  },
  {
   "cell_type": "code",
   "execution_count": 14,
   "metadata": {},
   "outputs": [
    {
     "data": {
      "text/plain": "array([ 9,  9,  9,  9,  9,  9,  9,  9,  9,  9,  9,  9,  9,  9,  9,  9,  9,\n        9,  9,  9,  6,  6,  6,  6,  6,  6,  6,  6,  6,  6,  6,  6,  6,  6,\n        6,  6,  6,  6,  6,  6, 12, 12, 12, 12, 12, 12, 12, 12, 12, 12, 12,\n       12, 12, 12, 12, 12, 12, 12, 12, 12, 19, 19, 19, 19, 19, 19, 19, 19,\n       19, 19, 19, 19, 19, 19, 19, 19, 19, 19, 19, 19,  7,  7,  7,  7,  7,\n        7,  7,  7,  7,  7,  7,  7,  7,  7,  7,  7,  7,  7,  7,  7, 22, 22,\n       22, 22, 22, 22, 22, 22, 22, 22, 22, 22, 22, 22, 22, 22, 22, 22, 22,\n       22,  8,  8,  8,  8,  8,  8,  8,  8,  8,  8,  8,  8,  8,  8,  8,  8,\n        8,  8,  8,  8,  0,  0,  0,  0,  0,  0,  0,  0,  0,  0,  0,  0,  0,\n        0,  0,  0,  0,  0,  0,  0, 21, 21, 21, 21, 21, 21, 21, 21, 21, 21,\n       21, 21, 21, 21, 21, 21, 21, 21, 21, 21, 23, 23, 23, 23, 23, 23, 23,\n       23, 23, 23, 23, 23, 23, 23, 23, 23, 23, 23, 23, 23, 18, 18, 18, 18,\n       18, 18, 18, 18, 18, 18, 18, 18, 18, 18, 18, 18, 18, 18, 18, 18, 11,\n       11, 11, 11, 11, 11, 11, 11, 11, 11, 11, 11, 11, 11, 11, 11, 11, 11,\n       11, 11,  5,  5,  5,  5,  5,  5,  5,  5,  5,  5,  5,  5,  5,  5,  5,\n        5,  5,  5,  5,  5,  1,  1,  1,  1,  1,  1,  1,  1,  1,  1,  1,  1,\n        1,  1,  1,  1,  1,  1,  1,  1, 13, 13, 13, 13, 13, 13, 13, 13, 13,\n       13, 13, 13, 13, 13, 13, 13, 13, 13, 13, 13, 24, 24, 24, 24, 24, 24,\n       24, 24, 24, 24, 24, 24, 24, 24, 24, 24, 24, 24, 24, 24, 17, 17, 17,\n       17, 17, 17, 17, 17, 17, 17, 17, 17, 17, 17, 17, 17, 17, 17, 17, 17,\n       10, 10, 10, 10, 10, 10, 10, 10, 10, 10, 10, 10, 10, 10, 10, 10, 10,\n       10, 10, 10, 14, 14, 14, 14, 14, 14, 14, 14, 14, 14, 14, 14, 14, 14,\n       14, 14, 14, 14, 14, 14, 15, 15, 15, 15, 15, 15, 15, 15, 15, 15, 15,\n       15, 15, 15, 15, 15, 15, 15, 15, 15, 20, 20, 20, 20, 20, 20, 20, 20,\n       20, 20, 20, 20, 20, 20, 20, 20, 20, 20, 20, 20, 16, 16, 16, 16, 16,\n       16, 16, 16, 16, 16, 16, 16, 16, 16, 16, 16, 16, 16, 16, 16, 25, 25,\n       25, 25, 25, 25, 25, 25, 25, 25, 25, 25, 25, 25, 25, 25, 25, 25, 25,\n       25,  2,  2,  2,  2,  2,  2,  2,  2,  2,  2,  2,  2,  2,  2,  2,  2,\n        2,  2,  2,  2,  4,  4,  4,  4,  4,  4,  4,  4,  4,  4,  4,  4,  4,\n        4,  4,  4,  4,  4,  4,  4,  3,  3,  3,  3,  3,  3,  3,  3,  3,  3,\n        3,  3,  3,  3,  3,  3,  3,  3,  3,  3])"
     },
     "execution_count": 14,
     "metadata": {},
     "output_type": "execute_result"
    }
   ],
   "source": [
    "labels"
   ]
  },
  {
   "cell_type": "code",
   "execution_count": 15,
   "metadata": {
    "scrolled": true
   },
   "outputs": [
    {
     "data": {
      "text/plain": "array([[[157, 157, 157],\n        [157, 157, 157],\n        [157, 157, 157],\n        ...,\n        [157, 157, 159],\n        [157, 157, 159],\n        [157, 157, 159]],\n\n       [[157, 157, 157],\n        [157, 157, 157],\n        [157, 157, 157],\n        ...,\n        [157, 157, 159],\n        [157, 157, 159],\n        [157, 157, 159]],\n\n       [[157, 157, 157],\n        [157, 157, 157],\n        [157, 157, 157],\n        ...,\n        [157, 157, 159],\n        [157, 157, 159],\n        [157, 157, 159]],\n\n       ...,\n\n       [[157, 157, 159],\n        [157, 157, 159],\n        [157, 157, 159],\n        ...,\n        [158, 158, 160],\n        [158, 158, 160],\n        [158, 158, 160]],\n\n       [[157, 157, 159],\n        [157, 157, 159],\n        [157, 157, 159],\n        ...,\n        [158, 158, 160],\n        [158, 158, 160],\n        [158, 158, 160]],\n\n       [[157, 157, 159],\n        [157, 157, 159],\n        [157, 157, 159],\n        ...,\n        [158, 158, 160],\n        [158, 158, 160],\n        [158, 158, 160]]], dtype=uint8)"
     },
     "execution_count": 15,
     "metadata": {},
     "output_type": "execute_result"
    }
   ],
   "source": [
    "train_images[0]"
   ]
  },
  {
   "cell_type": "code",
   "execution_count": 16,
   "metadata": {},
   "outputs": [],
   "source": [
    "from sklearn.model_selection import train_test_split\n",
    "x_train, x_test, y_train, y_test = train_test_split(train_images, labels, test_size=0.1, random_state=100)"
   ]
  },
  {
   "cell_type": "code",
   "execution_count": 17,
   "metadata": {
    "scrolled": true
   },
   "outputs": [
    {
     "data": {
      "text/plain": "((468, 224, 224, 3), (468,), (52, 224, 224, 3), (52,))"
     },
     "execution_count": 17,
     "metadata": {},
     "output_type": "execute_result"
    }
   ],
   "source": [
    "x_train.shape, y_train.shape, x_test.shape, y_test.shape"
   ]
  },
  {
   "cell_type": "code",
   "execution_count": 18,
   "metadata": {},
   "outputs": [
    {
     "name": "stderr",
     "output_type": "stream",
     "text": [
      "2021-09-27 19:34:42.264271: W tensorflow/stream_executor/platform/default/dso_loader.cc:64] Could not load dynamic library 'libcuda.so.1'; dlerror: libcuda.so.1: cannot open shared object file: No such file or directory\n",
      "2021-09-27 19:34:42.264320: W tensorflow/stream_executor/cuda/cuda_driver.cc:326] failed call to cuInit: UNKNOWN ERROR (303)\n",
      "2021-09-27 19:34:42.264352: I tensorflow/stream_executor/cuda/cuda_diagnostics.cc:156] kernel driver does not appear to be running on this host (nikmachine): /proc/driver/nvidia/version does not exist\n",
      "2021-09-27 19:34:42.290804: I tensorflow/core/platform/cpu_feature_guard.cc:142] This TensorFlow binary is optimized with oneAPI Deep Neural Network Library (oneDNN) to use the following CPU instructions in performance-critical operations:  AVX2 FMA\n",
      "To enable them in other operations, rebuild TensorFlow with the appropriate compiler flags.\n"
     ]
    }
   ],
   "source": [
    "data_augmentation = keras.Sequential([\n",
    "    layers.experimental.preprocessing.RandomZoom(0.9),\n",
    "    layers.experimental.preprocessing.RandomContrast(0.1),\n",
    "])"
   ]
  },
  {
   "cell_type": "code",
   "execution_count": 19,
   "metadata": {
    "scrolled": true
   },
   "outputs": [
    {
     "data": {
      "text/plain": "<matplotlib.image.AxesImage at 0x7ff6688bcb80>"
     },
     "execution_count": 19,
     "metadata": {},
     "output_type": "execute_result"
    },
    {
     "data": {
      "image/png": "[encoded data removed]",
      "text/plain": "<Figure size 432x288 with 1 Axes>"
     },
     "metadata": {
      "needs_background": "light",
      "transient": {}
     },
     "output_type": "display_data"
    }
   ],
   "source": [
    "plt.axis(\"off\")\n",
    "plt.imshow(train_images[0])"
   ]
  },
  {
   "cell_type": "code",
   "execution_count": 20,
   "metadata": {
    "scrolled": true
   },
   "outputs": [
    {
     "name": "stderr",
     "output_type": "stream",
     "text": [
      "2021-09-27 19:34:48.549325: W tensorflow/core/framework/cpu_allocator_impl.cc:80] Allocation of 78274560 exceeds 10% of free system memory.\n",
      "2021-09-27 19:34:49.476625: W tensorflow/core/framework/cpu_allocator_impl.cc:80] Allocation of 78274560 exceeds 10% of free system memory.\n",
      "2021-09-27 19:34:50.269894: W tensorflow/core/framework/cpu_allocator_impl.cc:80] Allocation of 313098240 exceeds 10% of free system memory.\n",
      "2021-09-27 19:34:50.363675: W tensorflow/core/framework/cpu_allocator_impl.cc:80] Allocation of 313098240 exceeds 10% of free system memory.\n",
      "2021-09-27 19:34:50.547962: W tensorflow/core/framework/cpu_allocator_impl.cc:80] Allocation of 313098240 exceeds 10% of free system memory.\n"
     ]
    },
    {
     "data": {
      "text/plain": "<matplotlib.image.AxesImage at 0x7ff6688bcac0>"
     },
     "execution_count": 20,
     "metadata": {},
     "output_type": "execute_result"
    },
    {
     "data": {
      "image/png": "[encoded data removed]",
      "text/plain": "<Figure size 432x288 with 1 Axes>"
     },
     "metadata": {
      "needs_background": "light",
      "transient": {}
     },
     "output_type": "display_data"
    }
   ],
   "source": [
    "plt.axis(\"off\")\n",
    "plt.imshow(data_augmentation(train_images)[0].numpy().astype(\"uint8\"))"
   ]
  },
  {
   "cell_type": "code",
   "execution_count": 21,
   "metadata": {},
   "outputs": [],
   "source": [
    "x_train_scaled = x_train/255\n",
    "x_test_scaled = x_test/255"
   ]
  },
  {
   "cell_type": "code",
   "execution_count": 22,
   "metadata": {
    "scrolled": true
   },
   "outputs": [
    {
     "data": {
      "text/plain": "<matplotlib.image.AxesImage at 0x7ff65a15ea90>"
     },
     "execution_count": 22,
     "metadata": {},
     "output_type": "execute_result"
    },
    {
     "data": {
      "image/png": "[encoded data removed]",
      "text/plain": "<Figure size 432x288 with 1 Axes>"
     },
     "metadata": {
      "needs_background": "light",
      "transient": {}
     },
     "output_type": "display_data"
    }
   ],
   "source": [
    "plt.axis(\"off\")\n",
    "plt.imshow(x_train_scaled[0])"
   ]
  },
  {
   "cell_type": "code",
   "execution_count": 23,
   "metadata": {},
   "outputs": [
    {
     "data": {
      "text/plain": "<matplotlib.image.AxesImage at 0x7ff65a0debb0>"
     },
     "execution_count": 23,
     "metadata": {},
     "output_type": "execute_result"
    },
    {
     "data": {
      "image/png": "[encoded data removed]",
      "text/plain": "<Figure size 432x288 with 1 Axes>"
     },
     "metadata": {
      "needs_background": "light",
      "transient": {}
     },
     "output_type": "display_data"
    }
   ],
   "source": [
    "plt.axis(\"off\")\n",
    "plt.imshow(data_augmentation(x_train_scaled)[0].numpy())"
   ]
  },
  {
   "cell_type": "code",
   "execution_count": 24,
   "metadata": {},
   "outputs": [
    {
     "data": {
      "text/plain": "(468, 224, 224, 3)"
     },
     "execution_count": 24,
     "metadata": {},
     "output_type": "execute_result"
    }
   ],
   "source": [
    "x_train_scaled.shape"
   ]
  },
  {
   "cell_type": "code",
   "execution_count": 25,
   "metadata": {},
   "outputs": [],
   "source": [
    "feature_extractor = \"https://tfhub.dev/google/tf2-preview/mobilenet_v2/feature_vector/4\"\n",
    "pretrained_model_without_top_layer = hub.KerasLayer(\n",
    "feature_extractor, input_shape = (224,224,3), trainable = False)"
   ]
  },
  {
   "cell_type": "code",
   "execution_count": 26,
   "metadata": {},
   "outputs": [],
   "source": [
    "model = tf.keras.Sequential([\n",
    "    data_augmentation,\n",
    "    pretrained_model_without_top_layer,\n",
    "    tf.keras.layers.Dense(128,activation = \"relu\"),\n",
    "    tf.keras.layers.Dense(26, activation = \"sigmoid\")\n",
    "])"
   ]
  },
  {
   "cell_type": "code",
   "execution_count": 27,
   "metadata": {},
   "outputs": [
    {
     "data": {
      "text/plain": "array([[[0.59215686, 0.58431373, 0.58823529],\n        [0.59215686, 0.58431373, 0.58823529],\n        [0.59215686, 0.58431373, 0.58823529],\n        ...,\n        [0.59215686, 0.58823529, 0.60784314],\n        [0.58823529, 0.58431373, 0.60392157],\n        [0.58823529, 0.58431373, 0.60392157]],\n\n       [[0.59215686, 0.58431373, 0.58823529],\n        [0.59215686, 0.58431373, 0.58823529],\n        [0.59215686, 0.58431373, 0.58823529],\n        ...,\n        [0.59215686, 0.58823529, 0.60784314],\n        [0.59215686, 0.58431373, 0.60784314],\n        [0.59215686, 0.58431373, 0.60392157]],\n\n       [[0.59215686, 0.58431373, 0.58823529],\n        [0.59215686, 0.58431373, 0.58823529],\n        [0.59215686, 0.58431373, 0.58823529],\n        ...,\n        [0.59215686, 0.58823529, 0.60392157],\n        [0.59215686, 0.58823529, 0.60392157],\n        [0.59215686, 0.58823529, 0.60392157]],\n\n       ...,\n\n       [[0.57647059, 0.56862745, 0.57254902],\n        [0.57647059, 0.56862745, 0.57254902],\n        [0.58039216, 0.57254902, 0.57647059],\n        ...,\n        [0.58039216, 0.58039216, 0.58039216],\n        [0.58039216, 0.58039216, 0.58039216],\n        [0.58431373, 0.58431373, 0.58431373]],\n\n       [[0.57647059, 0.56862745, 0.57254902],\n        [0.57647059, 0.56862745, 0.57254902],\n        [0.58039216, 0.57254902, 0.57647059],\n        ...,\n        [0.58039216, 0.58039216, 0.58039216],\n        [0.58039216, 0.58039216, 0.58039216],\n        [0.58039216, 0.58039216, 0.58039216]],\n\n       [[0.57647059, 0.56862745, 0.57254902],\n        [0.57647059, 0.56862745, 0.57254902],\n        [0.58039216, 0.57254902, 0.57647059],\n        ...,\n        [0.58039216, 0.58039216, 0.58039216],\n        [0.58039216, 0.58039216, 0.58039216],\n        [0.58039216, 0.58039216, 0.58039216]]])"
     },
     "execution_count": 27,
     "metadata": {},
     "output_type": "execute_result"
    }
   ],
   "source": [
    "x_test_scaled[0]"
   ]
  },
  {
   "cell_type": "code",
   "execution_count": 28,
   "metadata": {},
   "outputs": [],
   "source": [
    "model.compile(\n",
    "    optimizer=\"adam\",\n",
    "    loss = tf.keras.losses.SparseCategoricalCrossentropy(from_logits=True),\n",
    "    metrics=[\"acc\"]\n",
    ")"
   ]
  },
  {
   "cell_type": "code",
   "execution_count": 29,
   "metadata": {},
   "outputs": [
    {
     "name": "stderr",
     "output_type": "stream",
     "text": [
      "2021-09-27 19:35:29.239259: I tensorflow/compiler/mlir/mlir_graph_optimization_pass.cc:176] None of the MLIR Optimization Passes are enabled (registered 2)\n",
      "2021-09-27 19:35:29.317273: I tensorflow/core/platform/profile_utils/cpu_utils.cc:114] CPU Frequency: 2299965000 Hz\n"
     ]
    },
    {
     "name": "stdout",
     "output_type": "stream",
     "text": [
      "Epoch 1/60\n",
      "15/15 - 17s - loss: 3.3107 - acc: 0.0705 - val_loss: 2.9953 - val_acc: 0.1731\n",
      "Epoch 2/60\n",
      "15/15 - 9s - loss: 2.8608 - acc: 0.2265 - val_loss: 2.7066 - val_acc: 0.2500\n",
      "Epoch 3/60\n",
      "15/15 - 9s - loss: 2.5418 - acc: 0.2885 - val_loss: 2.5664 - val_acc: 0.2500\n",
      "Epoch 4/60\n",
      "15/15 - 9s - loss: 2.3123 - acc: 0.3590 - val_loss: 2.3030 - val_acc: 0.3269\n",
      "Epoch 5/60\n",
      "15/15 - 9s - loss: 2.0874 - acc: 0.3974 - val_loss: 2.1505 - val_acc: 0.4038\n",
      "Epoch 6/60\n",
      "15/15 - 9s - loss: 1.8392 - acc: 0.4957 - val_loss: 1.9630 - val_acc: 0.4423\n",
      "Epoch 7/60\n",
      "15/15 - 9s - loss: 1.6615 - acc: 0.5513 - val_loss: 1.8699 - val_acc: 0.4808\n",
      "Epoch 8/60\n",
      "15/15 - 9s - loss: 1.5502 - acc: 0.5556 - val_loss: 1.9251 - val_acc: 0.4423\n",
      "Epoch 9/60\n",
      "15/15 - 7s - loss: 1.4106 - acc: 0.5833 - val_loss: 1.7642 - val_acc: 0.4808\n",
      "Epoch 10/60\n",
      "15/15 - 8s - loss: 1.3787 - acc: 0.6282 - val_loss: 1.7565 - val_acc: 0.4231\n",
      "Epoch 11/60\n",
      "15/15 - 8s - loss: 1.2896 - acc: 0.6261 - val_loss: 1.7554 - val_acc: 0.5192\n",
      "Epoch 12/60\n",
      "15/15 - 8s - loss: 1.2305 - acc: 0.6410 - val_loss: 1.7323 - val_acc: 0.4808\n",
      "Epoch 13/60\n",
      "15/15 - 8s - loss: 1.1974 - acc: 0.6603 - val_loss: 1.7688 - val_acc: 0.4423\n",
      "Epoch 14/60\n",
      "15/15 - 8s - loss: 1.0785 - acc: 0.7179 - val_loss: 1.6292 - val_acc: 0.4615\n",
      "Epoch 15/60\n",
      "15/15 - 8s - loss: 1.0702 - acc: 0.6966 - val_loss: 1.6965 - val_acc: 0.4808\n",
      "Epoch 16/60\n",
      "15/15 - 8s - loss: 1.1026 - acc: 0.6902 - val_loss: 1.6207 - val_acc: 0.5577\n",
      "Epoch 17/60\n",
      "15/15 - 7s - loss: 0.9895 - acc: 0.7286 - val_loss: 1.6778 - val_acc: 0.4231\n",
      "Epoch 18/60\n",
      "15/15 - 7s - loss: 0.8828 - acc: 0.7735 - val_loss: 1.5487 - val_acc: 0.5192\n",
      "Epoch 19/60\n",
      "15/15 - 7s - loss: 0.8565 - acc: 0.7756 - val_loss: 1.5921 - val_acc: 0.5000\n",
      "Epoch 20/60\n",
      "15/15 - 7s - loss: 0.8713 - acc: 0.7692 - val_loss: 1.5729 - val_acc: 0.5192\n",
      "Epoch 21/60\n",
      "15/15 - 7s - loss: 0.8034 - acc: 0.7842 - val_loss: 1.5653 - val_acc: 0.5385\n",
      "Epoch 22/60\n",
      "15/15 - 8s - loss: 0.9083 - acc: 0.7585 - val_loss: 1.7082 - val_acc: 0.4808\n",
      "Epoch 23/60\n",
      "15/15 - 7s - loss: 0.6795 - acc: 0.8162 - val_loss: 1.5522 - val_acc: 0.5385\n",
      "Epoch 24/60\n",
      "15/15 - 8s - loss: 0.7380 - acc: 0.8077 - val_loss: 1.5822 - val_acc: 0.5192\n",
      "Epoch 25/60\n",
      "15/15 - 8s - loss: 0.7751 - acc: 0.7885 - val_loss: 1.5719 - val_acc: 0.4423\n",
      "Epoch 26/60\n",
      "15/15 - 7s - loss: 0.6822 - acc: 0.7927 - val_loss: 1.5641 - val_acc: 0.5769\n",
      "Epoch 27/60\n",
      "15/15 - 7s - loss: 0.6582 - acc: 0.8376 - val_loss: 1.6214 - val_acc: 0.5000\n",
      "Epoch 28/60\n",
      "15/15 - 7s - loss: 0.6628 - acc: 0.8291 - val_loss: 1.5954 - val_acc: 0.5000\n",
      "Epoch 29/60\n",
      "15/15 - 7s - loss: 0.5978 - acc: 0.8547 - val_loss: 1.5448 - val_acc: 0.5769\n",
      "Epoch 30/60\n",
      "15/15 - 7s - loss: 0.5953 - acc: 0.8504 - val_loss: 1.6197 - val_acc: 0.5000\n",
      "Epoch 31/60\n",
      "15/15 - 7s - loss: 0.6482 - acc: 0.8226 - val_loss: 1.6306 - val_acc: 0.5000\n",
      "Epoch 32/60\n",
      "15/15 - 7s - loss: 0.5981 - acc: 0.8376 - val_loss: 1.5490 - val_acc: 0.5385\n",
      "Epoch 33/60\n",
      "15/15 - 7s - loss: 0.6296 - acc: 0.8462 - val_loss: 1.5300 - val_acc: 0.5769\n",
      "Epoch 34/60\n",
      "15/15 - 7s - loss: 0.5606 - acc: 0.8632 - val_loss: 1.6526 - val_acc: 0.5192\n",
      "Epoch 35/60\n",
      "15/15 - 7s - loss: 0.5425 - acc: 0.8590 - val_loss: 1.6818 - val_acc: 0.4808\n",
      "Epoch 36/60\n",
      "15/15 - 7s - loss: 0.5670 - acc: 0.8654 - val_loss: 1.4477 - val_acc: 0.5577\n",
      "Epoch 37/60\n",
      "15/15 - 7s - loss: 0.5155 - acc: 0.8611 - val_loss: 1.6581 - val_acc: 0.4808\n",
      "Epoch 38/60\n",
      "15/15 - 8s - loss: 0.5446 - acc: 0.8611 - val_loss: 1.5351 - val_acc: 0.5385\n",
      "Epoch 39/60\n",
      "15/15 - 8s - loss: 0.5238 - acc: 0.8697 - val_loss: 1.6698 - val_acc: 0.5000\n",
      "Epoch 40/60\n",
      "15/15 - 9s - loss: 0.5095 - acc: 0.8611 - val_loss: 1.6356 - val_acc: 0.4808\n",
      "Epoch 41/60\n",
      "15/15 - 9s - loss: 0.5324 - acc: 0.8697 - val_loss: 1.6443 - val_acc: 0.5192\n",
      "Epoch 42/60\n",
      "15/15 - 8s - loss: 0.5121 - acc: 0.8632 - val_loss: 1.6716 - val_acc: 0.5000\n",
      "Epoch 43/60\n",
      "15/15 - 8s - loss: 0.4274 - acc: 0.8996 - val_loss: 1.5840 - val_acc: 0.4615\n",
      "Epoch 44/60\n",
      "15/15 - 8s - loss: 0.4410 - acc: 0.8953 - val_loss: 1.5739 - val_acc: 0.5000\n",
      "Epoch 45/60\n",
      "15/15 - 8s - loss: 0.4509 - acc: 0.8761 - val_loss: 1.7191 - val_acc: 0.4423\n",
      "Epoch 46/60\n",
      "15/15 - 8s - loss: 0.4688 - acc: 0.8739 - val_loss: 1.5629 - val_acc: 0.4423\n",
      "Epoch 47/60\n",
      "15/15 - 8s - loss: 0.3951 - acc: 0.8910 - val_loss: 1.6432 - val_acc: 0.4808\n",
      "Epoch 48/60\n",
      "15/15 - 8s - loss: 0.3982 - acc: 0.9103 - val_loss: 1.5599 - val_acc: 0.5577\n",
      "Epoch 49/60\n",
      "15/15 - 8s - loss: 0.3945 - acc: 0.9145 - val_loss: 1.6371 - val_acc: 0.4423\n",
      "Epoch 50/60\n",
      "15/15 - 8s - loss: 0.4500 - acc: 0.8889 - val_loss: 1.5298 - val_acc: 0.5962\n",
      "Epoch 51/60\n",
      "15/15 - 8s - loss: 0.4339 - acc: 0.8910 - val_loss: 1.7438 - val_acc: 0.5192\n",
      "Epoch 52/60\n",
      "15/15 - 8s - loss: 0.3853 - acc: 0.8996 - val_loss: 1.4870 - val_acc: 0.5192\n",
      "Epoch 53/60\n",
      "15/15 - 8s - loss: 0.4336 - acc: 0.8889 - val_loss: 1.5037 - val_acc: 0.5577\n",
      "Epoch 54/60\n",
      "15/15 - 8s - loss: 0.3657 - acc: 0.9145 - val_loss: 1.4764 - val_acc: 0.5385\n",
      "Epoch 55/60\n",
      "15/15 - 8s - loss: 0.3737 - acc: 0.8932 - val_loss: 1.5334 - val_acc: 0.5000\n",
      "Epoch 56/60\n",
      "15/15 - 8s - loss: 0.3443 - acc: 0.9038 - val_loss: 1.5150 - val_acc: 0.6346\n",
      "Epoch 57/60\n",
      "15/15 - 8s - loss: 0.4102 - acc: 0.8953 - val_loss: 1.6142 - val_acc: 0.5000\n",
      "Epoch 58/60\n",
      "15/15 - 8s - loss: 0.3910 - acc: 0.9103 - val_loss: 1.6977 - val_acc: 0.5000\n",
      "Epoch 59/60\n",
      "15/15 - 8s - loss: 0.3981 - acc: 0.9060 - val_loss: 1.5900 - val_acc: 0.5000\n",
      "Epoch 60/60\n",
      "15/15 - 8s - loss: 0.3838 - acc: 0.8910 - val_loss: 1.7449 - val_acc: 0.5192\n"
     ]
    },
    {
     "data": {
      "text/plain": "<tensorflow.python.keras.callbacks.History at 0x7ff639fd17c0>"
     },
     "execution_count": 29,
     "metadata": {},
     "output_type": "execute_result"
    }
   ],
   "source": [
    "model.fit(x_train_scaled,y_train, validation_data=(x_test_scaled, y_test), epochs = 60, verbose=2)"
   ]
  },
  {
   "cell_type": "code",
   "execution_count": 30,
   "metadata": {},
   "outputs": [
    {
     "data": {
      "text/plain": "(52, 224, 224, 3)"
     },
     "execution_count": 30,
     "metadata": {},
     "output_type": "execute_result"
    }
   ],
   "source": [
    "x_test.shape"
   ]
  },
  {
   "cell_type": "code",
   "execution_count": 89,
   "metadata": {},
   "outputs": [],
   "source": [
    "path = \"testdata\""
   ]
  },
  {
   "cell_type": "code",
   "execution_count": 90,
   "metadata": {},
   "outputs": [
    {
     "name": "stdout",
     "output_type": "stream",
     "text": [
      "['dataset/C']\n",
      "['dataset/O']\n",
      "['dataset/R']\n",
      "['dataset/P']\n",
      "['dataset/I']\n",
      "['dataset/C']\n",
      "['dataset/E']\n",
      "['dataset/R']\n"
     ]
    }
   ],
   "source": [
    "for a in sorted(os.listdir(path)):\n",
    "    iPath = os.path.join(path + '/' + a)\n",
    "    img = cv2.imread(iPath, cv2.IMREAD_COLOR)\n",
    "    img1 = cv2.resize(img, (224, 224))\n",
    "    img1 = cv2.cvtColor(img1, cv2.COLOR_RGB2BGR)\n",
    "\n",
    "    img1 = np.array(img1)\n",
    "    img1 = img1/255.0   \n",
    "\n",
    "    img = img1[np.newaxis,...]\n",
    "\n",
    "    y = model.predict(img)\n",
    "    \n",
    "    y = np.argmax(y)\n",
    "\n",
    "    prediction = le.inverse_transform([y])\n",
    "    print(prediction)\n"
   ]
  },
  {
   "cell_type": "code",
   "execution_count": null,
   "metadata": {},
   "outputs": [],
   "source": [
    "\n"
   ]
  },
  {
   "cell_type": "code",
   "execution_count": 79,
   "metadata": {},
   "outputs": [
    {
     "data": {
      "text/plain": "(224, 224, 3)"
     },
     "execution_count": 79,
     "metadata": {},
     "output_type": "execute_result"
    }
   ],
   "source": [
    "path = \"testdata/a11.jpeg\"\n",
    "img = cv2.imread(path, cv2.IMREAD_COLOR)\n",
    "img1 = cv2.resize(img, (224, 224))\n",
    "img1 = cv2.cvtColor(img1, cv2.COLOR_RGB2BGR)\n",
    "img1.shape"
   ]
  },
  {
   "cell_type": "code",
   "execution_count": 80,
   "metadata": {},
   "outputs": [],
   "source": [
    "img1 = np.array(img1)\n",
    "img1 = img1/255.0"
   ]
  },
  {
   "cell_type": "code",
   "execution_count": 81,
   "metadata": {},
   "outputs": [
    {
     "data": {
      "text/plain": "<matplotlib.image.AxesImage at 0x7ff5d3420a30>"
     },
     "execution_count": 81,
     "metadata": {},
     "output_type": "execute_result"
    },
    {
     "data": {
      "image/png": "[encoded data removed]",
      "text/plain": "<Figure size 432x288 with 1 Axes>"
     },
     "metadata": {
      "needs_background": "light",
      "transient": {}
     },
     "output_type": "display_data"
    }
   ],
   "source": [
    "plt.imshow(img1)"
   ]
  },
  {
   "cell_type": "code",
   "execution_count": 68,
   "metadata": {},
   "outputs": [],
   "source": [
    "img = img1[np.newaxis,...]"
   ]
  },
  {
   "cell_type": "code",
   "execution_count": 69,
   "metadata": {},
   "outputs": [
    {
     "data": {
      "text/plain": "(1, 224, 224, 3)"
     },
     "execution_count": 69,
     "metadata": {},
     "output_type": "execute_result"
    }
   ],
   "source": [
    "img.shape"
   ]
  },
  {
   "cell_type": "code",
   "execution_count": 70,
   "metadata": {
    "scrolled": false
   },
   "outputs": [],
   "source": [
    "y = model.predict(img)"
   ]
  },
  {
   "cell_type": "code",
   "execution_count": 71,
   "metadata": {},
   "outputs": [],
   "source": [
    "y = np.argmax(y)"
   ]
  },
  {
   "cell_type": "code",
   "execution_count": 72,
   "metadata": {},
   "outputs": [
    {
     "data": {
      "text/plain": "array(['dataset/R'], dtype='<U9')"
     },
     "execution_count": 72,
     "metadata": {},
     "output_type": "execute_result"
    }
   ],
   "source": [
    "prediction = le.inverse_transform([y])\n",
    "prediction"
   ]
  },
  {
   "cell_type": "code",
   "execution_count": null,
   "metadata": {},
   "outputs": [],
   "source": [
    "# path = \"C:\\\\Users\\\\Satyam Kumar\\\\Downloads\\\\c2.jpg\"\n",
    "# img = cv2.imread(path, cv2.IMREAD_COLOR)\n",
    "# img.shape"
   ]
  },
  {
   "cell_type": "code",
   "execution_count": null,
   "metadata": {},
   "outputs": [],
   "source": [
    "# path = \"C:\\\\Users\\\\Satyam Kumar\\\\Downloads\\\\pp.jpg\"\n",
    "# img = cv2.imread(path, cv2.IMREAD_COLOR)\n",
    "# img1 = cv2.resize(img, (224, 224))\n",
    "# img1 = cv2.cvtColor(img1, cv2.COLOR_RGB2BGR)\n",
    "# img1.shape"
   ]
  },
  {
   "cell_type": "code",
   "execution_count": null,
   "metadata": {},
   "outputs": [],
   "source": [
    "# plt.imshow(img1)"
   ]
  },
  {
   "cell_type": "code",
   "execution_count": null,
   "metadata": {},
   "outputs": [],
   "source": [
    "# img = img1[np.newaxis,...]"
   ]
  },
  {
   "cell_type": "code",
   "execution_count": null,
   "metadata": {},
   "outputs": [],
   "source": [
    "# img.shape"
   ]
  },
  {
   "cell_type": "code",
   "execution_count": null,
   "metadata": {},
   "outputs": [],
   "source": [
    "# y = model.predict(img)"
   ]
  },
  {
   "cell_type": "code",
   "execution_count": null,
   "metadata": {},
   "outputs": [],
   "source": [
    "# y = np.argmax(y)"
   ]
  },
  {
   "cell_type": "code",
   "execution_count": null,
   "metadata": {},
   "outputs": [],
   "source": [
    "# prediction = le.inverse_transform([y])\n",
    "# prediction"
   ]
  },
  {
   "cell_type": "code",
   "execution_count": null,
   "metadata": {},
   "outputs": [],
   "source": []
  }
 ],
 "metadata": {
  "kernelspec": {
   "display_name": "Python 3 (ipykernel)",
   "language": "python",
   "name": "python3"
  },
  "language_info": {
   "codemirror_mode": {
    "name": "ipython",
    "version": 3
   },
   "file_extension": ".py",
   "mimetype": "text/x-python",
   "name": "python",
   "nbconvert_exporter": "python",
   "pygments_lexer": "ipython3",
   "version": "3.8.10"
  }
 },
 "nbformat": 4,
 "nbformat_minor": 5
}